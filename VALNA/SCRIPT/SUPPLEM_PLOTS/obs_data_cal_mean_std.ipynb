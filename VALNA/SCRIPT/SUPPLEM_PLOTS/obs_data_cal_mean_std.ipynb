{
 "cells": [
  {
   "cell_type": "markdown",
   "id": "streaming-parts",
   "metadata": {},
   "source": [
    "# Mean and std for observational data for VALNA"
   ]
  },
  {
   "cell_type": "markdown",
   "id": "varied-province",
   "metadata": {},
   "source": [
    "A separate script to find mean and std for observational data for the following metrics to evaluate North Altantic biases:\n",
    "\n",
    "   * AMOC at 26.5N at max. depth\n",
    "   * OHT at 26.5N\n",
    "   * Mean SST anomaly off Newfoundland\n",
    "   * Mean SSS anomaly in Labrador Sea\n",
    "   * GS separation latitude\n",
    "   * NA current latitude\n",
    "   * Mixed layer depth in Labrador Sea in March \n",
    "   * Subpolar gyre heat content \n",
    "   \n",
    "   * Subpolar gyre strength - COME BACK TO\n",
    "   * Overflow bottom temperature - COME BACK TO\n",
    "  \n"
   ]
  },
  {
   "cell_type": "code",
   "execution_count": 1,
   "id": "awful-practitioner",
   "metadata": {},
   "outputs": [],
   "source": [
    "import xarray as xr\n",
    "import numpy as np\n",
    "import pandas as pd\n",
    "import netCDF4 as nc"
   ]
  },
  {
   "cell_type": "code",
   "execution_count": 2,
   "id": "appropriate-macintosh",
   "metadata": {},
   "outputs": [],
   "source": [
    "mdir = '/data/users/smoreton/Obs/'"
   ]
  },
  {
   "cell_type": "markdown",
   "id": "nominated-russia",
   "metadata": {},
   "source": [
    "## AMOC and OHT at RAPID"
   ]
  },
  {
   "cell_type": "code",
   "execution_count": 3,
   "id": "handed-civilization",
   "metadata": {},
   "outputs": [],
   "source": [
    "#2004-2018 annual av\n",
    "ds = xr.open_dataset(mdir + 'RAPID/mocha_mht_data_ERA5_v2018_2.nc')"
   ]
  },
  {
   "cell_type": "code",
   "execution_count": 4,
   "id": "communist-earthquake",
   "metadata": {},
   "outputs": [],
   "source": [
    "df = ds.to_dataframe().reset_index()"
   ]
  },
  {
   "cell_type": "code",
   "execution_count": 28,
   "id": "alpine-subsection",
   "metadata": {},
   "outputs": [],
   "source": [
    "df_av = df.groupby(['year']).mean() # find annual av for each variable"
   ]
  },
  {
   "cell_type": "code",
   "execution_count": 29,
   "id": "lucky-liberty",
   "metadata": {},
   "outputs": [
    {
     "data": {
      "text/plain": [
       "17.064522702870917"
      ]
     },
     "execution_count": 29,
     "metadata": {},
     "output_type": "execute_result"
    }
   ],
   "source": [
    "df_av['maxmoc'].mean()"
   ]
  },
  {
   "cell_type": "code",
   "execution_count": 30,
   "id": "quarterly-blind",
   "metadata": {},
   "outputs": [
    {
     "data": {
      "text/plain": [
       "1.4844900348651107"
      ]
     },
     "execution_count": 30,
     "metadata": {},
     "output_type": "execute_result"
    }
   ],
   "source": [
    "df_av['maxmoc'].std()"
   ]
  },
  {
   "cell_type": "code",
   "execution_count": 31,
   "id": "dated-haiti",
   "metadata": {},
   "outputs": [],
   "source": [
    "df_av['Q_sum_PW'] = df_av['Q_sum']/1E15 # MHT at 26.5degN"
   ]
  },
  {
   "cell_type": "code",
   "execution_count": 32,
   "id": "chicken-distance",
   "metadata": {},
   "outputs": [
    {
     "data": {
      "text/plain": [
       "1.2031448616366116"
      ]
     },
     "execution_count": 32,
     "metadata": {},
     "output_type": "execute_result"
    }
   ],
   "source": [
    "df_av['Q_sum_PW'].mean()"
   ]
  },
  {
   "cell_type": "code",
   "execution_count": 33,
   "id": "younger-strain",
   "metadata": {},
   "outputs": [
    {
     "data": {
      "text/plain": [
       "0.10498461049583255"
      ]
     },
     "execution_count": 33,
     "metadata": {},
     "output_type": "execute_result"
    }
   ],
   "source": [
    "df_av['Q_sum_PW'].std()"
   ]
  },
  {
   "cell_type": "markdown",
   "id": "impaired-watts",
   "metadata": {},
   "source": [
    "### Prepping EN4 temperature and salinity data\n",
    "\n",
    "Using Argo period (2000 onwards): using 2001 - 2020, 20 yr time period"
   ]
  },
  {
   "cell_type": "code",
   "execution_count": 162,
   "id": "interpreted-avatar",
   "metadata": {},
   "outputs": [],
   "source": [
    "#calculate annual av:\n",
    "#ncra -F -d time,1,,1 EN.4.2.1.f.analysis.g10.2020*.nc EN4_2020_anav.nc\n",
    "\n",
    "mdir = '/data/users/smoreton/Obs/EN4_analysis/raw_zipped/' "
   ]
  },
  {
   "cell_type": "markdown",
   "id": "tutorial-young",
   "metadata": {},
   "source": [
    "## Mean SST over Newfoundland "
   ]
  },
  {
   "cell_type": "code",
   "execution_count": 163,
   "id": "satellite-mission",
   "metadata": {},
   "outputs": [],
   "source": [
    "def find_nearest(array, value):\n",
    "    n = [abs(i-value) for i in array]\n",
    "    idx = n.index(min(n))\n",
    "    return idx #array[idx]"
   ]
  },
  {
   "cell_type": "code",
   "execution_count": 173,
   "id": "worth-steps",
   "metadata": {},
   "outputs": [],
   "source": [
    "no_years = 20 \n",
    "all_years = np.linspace(2001, 2020, no_years).astype(int)\n",
    "mean_SST_Newfound_allyrs = np.zeros(no_years)\n",
    "\n",
    "for i in range(len(all_years)):\n",
    "    year = all_years[i]\n",
    "    \n",
    "    file = 'EN4_'+str(year)+'_anav.nc'\n",
    "    ds = xr.open_dataset(mdir + file)\n",
    "\n",
    "    # converting temp from K to C\n",
    "    ds['temperature'] = ds.temperature - 273.15\n",
    "    ds.temperature.attrs['units'] = 'degC'\n",
    "\n",
    "    #average SST off Newfoundland -43, -37 degW 45-50 degN\n",
    "    imin = find_nearest(ds.lon, 317)\n",
    "    imax = find_nearest(ds.lon, 323)\n",
    "    jmin = find_nearest(ds.lat, 45)\n",
    "    jmax = find_nearest(ds.lat, 50)\n",
    "\n",
    "    mean_SST_Newfound_allyrs[i] = ds.temperature[0,0,jmin:jmax, imin:imax].mean().values #array"
   ]
  },
  {
   "cell_type": "code",
   "execution_count": 174,
   "id": "wrapped-thomson",
   "metadata": {},
   "outputs": [
    {
     "data": {
      "text/plain": [
       "13.90855617900697"
      ]
     },
     "execution_count": 174,
     "metadata": {},
     "output_type": "execute_result"
    }
   ],
   "source": [
    "np.nanmean(mean_SST_Newfound_allyrs)"
   ]
  },
  {
   "cell_type": "code",
   "execution_count": 175,
   "id": "willing-summer",
   "metadata": {},
   "outputs": [
    {
     "data": {
      "text/plain": [
       "0.5102101109813537"
      ]
     },
     "execution_count": 175,
     "metadata": {},
     "output_type": "execute_result"
    }
   ],
   "source": [
    "np.nanstd(mean_SST_Newfound_allyrs)"
   ]
  },
  {
   "cell_type": "markdown",
   "id": "timely-mexican",
   "metadata": {},
   "source": [
    "## Mean SSS in Labrador Sea"
   ]
  },
  {
   "cell_type": "code",
   "execution_count": 177,
   "id": "exceptional-trinidad",
   "metadata": {},
   "outputs": [],
   "source": [
    "no_years = 20 \n",
    "all_years = np.linspace(2001, 2020, no_years).astype(int)\n",
    "mean_SSS_allyrs = np.zeros(no_years)\n",
    "\n",
    "for i in range(len(all_years)):\n",
    "    year = all_years[i]\n",
    "    \n",
    "    file = 'EN4_'+str(year)+'_anav.nc'\n",
    "    ds = xr.open_dataset(mdir + file)\n",
    "\n",
    "    #average SSS: -60, -50 degW 55-62 degN \n",
    "    imin = find_nearest(ds.lon, 300)\n",
    "    imax = find_nearest(ds.lon, 310)\n",
    "    jmin = find_nearest(ds.lat, 55)\n",
    "    jmax = find_nearest(ds.lat, 62)\n",
    "\n",
    "    mean_SSS_allyrs[i] = ds.salinity[0,0,jmin:jmax, imin:imax].mean().values #array"
   ]
  },
  {
   "cell_type": "code",
   "execution_count": 178,
   "id": "impressive-center",
   "metadata": {},
   "outputs": [
    {
     "data": {
      "text/plain": [
       "33.97744108143307"
      ]
     },
     "execution_count": 178,
     "metadata": {},
     "output_type": "execute_result"
    }
   ],
   "source": [
    "np.nanmean(mean_SSS_allyrs)"
   ]
  },
  {
   "cell_type": "code",
   "execution_count": 179,
   "id": "cathedral-technical",
   "metadata": {},
   "outputs": [
    {
     "data": {
      "text/plain": [
       "0.13480149124388918"
      ]
     },
     "execution_count": 179,
     "metadata": {},
     "output_type": "execute_result"
    }
   ],
   "source": [
    "np.nanstd(mean_SSS_allyrs)"
   ]
  },
  {
   "cell_type": "markdown",
   "id": "other-enzyme",
   "metadata": {},
   "source": [
    "## GS separation latitude"
   ]
  },
  {
   "cell_type": "code",
   "execution_count": 33,
   "id": "several-madagascar",
   "metadata": {},
   "outputs": [],
   "source": [
    "def find_nearest(array, value):\n",
    "    n = [abs(i-value) for i in array]\n",
    "    idx = n.index(min(n))\n",
    "    return idx, array[idx]"
   ]
  },
  {
   "cell_type": "code",
   "execution_count": 40,
   "id": "historical-smoke",
   "metadata": {},
   "outputs": [],
   "source": [
    "mdir = '/data/users/smoreton/Obs/EN4_analysis/raw_zipped/' \n",
    "\n",
    "# longitude & depth slice\n",
    "chosen_lon = 360-72\n",
    "chosen_depth = 200\n",
    "isotherm = 15"
   ]
  },
  {
   "cell_type": "code",
   "execution_count": 41,
   "id": "treated-moral",
   "metadata": {},
   "outputs": [],
   "source": [
    "no_years = 20 \n",
    "all_years = np.linspace(2001, 2020, no_years).astype(int)\n",
    "\n",
    "GS_sep_lat_allyrs = np.zeros(no_years)\n",
    "\n",
    "for i in range(len(all_years)):\n",
    "    year = all_years[i]\n",
    "    #print (year)\n",
    "    \n",
    "    file = 'EN4_'+str(year)+'_anav.nc'\n",
    "    ds = xr.open_dataset(mdir + file)\n",
    "\n",
    "    # converting temp from K to C\n",
    "    ds['temperature'] = ds.temperature - 273.15\n",
    "    ds.temperature.attrs['units'] = 'degC'\n",
    "\n",
    "    # selecting chosen depth\n",
    "    T_z_slice = ds.sel(depth=[chosen_depth], method='nearest').temperature[0][0]\n",
    "\n",
    "    # selecting chosen longitude\n",
    "    idx_x, lon_check = find_nearest(ds.lon.values, chosen_lon) \n",
    "\n",
    "    # finding lat at chosen isotherm\n",
    "    idx_y, T_check = find_nearest(T_z_slice.fillna(0)[:, idx_x].values, isotherm)\n",
    "\n",
    "    GS_sep_lat_allyrs[i] = ds.lat[idx_y].values"
   ]
  },
  {
   "cell_type": "code",
   "execution_count": 42,
   "id": "immediate-bermuda",
   "metadata": {},
   "outputs": [
    {
     "data": {
      "text/plain": [
       "37.2"
      ]
     },
     "execution_count": 42,
     "metadata": {},
     "output_type": "execute_result"
    }
   ],
   "source": [
    "GS_sep_lat_allyrs.mean()"
   ]
  },
  {
   "cell_type": "code",
   "execution_count": 43,
   "id": "completed-celebration",
   "metadata": {},
   "outputs": [
    {
     "data": {
      "text/plain": [
       "0.4"
      ]
     },
     "execution_count": 43,
     "metadata": {},
     "output_type": "execute_result"
    }
   ],
   "source": [
    "GS_sep_lat_allyrs.std()"
   ]
  },
  {
   "cell_type": "code",
   "execution_count": 44,
   "id": "twenty-induction",
   "metadata": {},
   "outputs": [
    {
     "data": {
      "text/plain": [
       "array([38., 37., 37., 37., 37., 37., 37., 37., 37., 37., 37., 37., 37.,\n",
       "       37., 37., 38., 37., 37., 38., 38.])"
      ]
     },
     "execution_count": 44,
     "metadata": {},
     "output_type": "execute_result"
    }
   ],
   "source": [
    "GS_sep_lat_allyrs"
   ]
  },
  {
   "cell_type": "markdown",
   "id": "spread-forth",
   "metadata": {},
   "source": [
    "### NAC latitude"
   ]
  },
  {
   "cell_type": "code",
   "execution_count": 58,
   "id": "piano-vatican",
   "metadata": {},
   "outputs": [],
   "source": [
    "# longitude & depth slice\n",
    "chosen_lon = 360-41\n",
    "chosen_depth = 50\n",
    "isotherm = 10\n",
    "\n",
    "no_years = 20 \n",
    "all_years = np.linspace(2001, 2020, no_years).astype(int)\n",
    "\n",
    "NAC_lat_allyrs = np.zeros(no_years)\n",
    "\n",
    "for i in range(len(all_years)):\n",
    "    year = all_years[i]\n",
    "    #print (year)\n",
    "    \n",
    "    file = 'EN4_'+str(year)+'_anav.nc'\n",
    "    ds = xr.open_dataset(mdir + file)\n",
    "\n",
    "    # converting temp from K to C\n",
    "    ds['temperature'] = ds.temperature - 273.15\n",
    "    ds.temperature.attrs['units'] = 'degC'\n",
    "\n",
    "    #cropping to NA: -80-0 degW 35-60 degN \n",
    "    imin = find_nearest(ds.lon, 280)\n",
    "    imax = find_nearest(ds.lon, 360)\n",
    "    jmin = find_nearest(ds.lat, 35)\n",
    "    jmax = find_nearest(ds.lat, 60)\n",
    "    \n",
    "    # jmin[0] # 118\n",
    "    # jmax[0] # 143\n",
    "    # imin[0] # 279\n",
    "    # imax[0] # 359\n",
    "    \n",
    "    ds = ds.isel(lat=slice(118,143), lon=slice(279,359))\n",
    "\n",
    "    # selecting chosen depth\n",
    "    T_z_slice = ds.sel(depth=[chosen_depth], method='nearest').temperature[0][0]\n",
    "\n",
    "    # selecting chosen longitude\n",
    "    idx_x, lon_check = find_nearest(ds.lon.values, chosen_lon) \n",
    "    \n",
    "    # finding lat at chosen isotherm\n",
    "    idx_y, T_check = find_nearest(T_z_slice.fillna(0)[:, idx_x].values, isotherm)\n",
    "    \n",
    "    #print (T_z_slice)\n",
    "\n",
    "    NAC_lat_allyrs[i] = ds.lat[idx_y].values\n",
    "    \n",
    "    "
   ]
  },
  {
   "cell_type": "code",
   "execution_count": 59,
   "id": "european-madonna",
   "metadata": {},
   "outputs": [
    {
     "data": {
      "text/plain": [
       "array([51., 51., 51., 52., 52., 52., 52., 51., 51., 52., 51., 51., 51.,\n",
       "       50., 50., 51., 52., 51., 51., 51.])"
      ]
     },
     "execution_count": 59,
     "metadata": {},
     "output_type": "execute_result"
    }
   ],
   "source": [
    "NAC_lat_allyrs"
   ]
  },
  {
   "cell_type": "code",
   "execution_count": 60,
   "id": "white-rally",
   "metadata": {},
   "outputs": [
    {
     "data": {
      "text/plain": [
       "51.2"
      ]
     },
     "execution_count": 60,
     "metadata": {},
     "output_type": "execute_result"
    }
   ],
   "source": [
    "NAC_lat_allyrs.mean()"
   ]
  },
  {
   "cell_type": "code",
   "execution_count": 61,
   "id": "efficient-algeria",
   "metadata": {},
   "outputs": [
    {
     "data": {
      "text/plain": [
       "0.6"
      ]
     },
     "execution_count": 61,
     "metadata": {},
     "output_type": "execute_result"
    }
   ],
   "source": [
    "NAC_lat_allyrs.std()"
   ]
  },
  {
   "cell_type": "markdown",
   "id": "rapid-leather",
   "metadata": {},
   "source": [
    "## MXL in Labrador Sea in March\n",
    "\n",
    "http://www.ifremer.fr/cerweb/deboyer/mld/Surface_Mixed_Layer_Depth.php\n",
    "\n",
    "MLD in density with a fixed threshold criterion (0.03kg/m3) from 1941-2002"
   ]
  },
  {
   "cell_type": "code",
   "execution_count": 3,
   "id": "future-bradford",
   "metadata": {},
   "outputs": [
    {
     "name": "stderr",
     "output_type": "stream",
     "text": [
      "/opt/scitools/environments/default/2021_03_18-1/lib/python3.6/site-packages/xarray/coding/times.py:517: SerializationWarning: Unable to decode time axis into full numpy.datetime64 objects, continuing using cftime.datetime objects instead, reason: dates out of range\n",
      "  dtype = _decode_cf_datetime_dtype(data, units, calendar, self.use_cftime)\n",
      "/opt/scitools/environments/default/2021_03_18-1/lib/python3.6/site-packages/numpy/core/_asarray.py:83: SerializationWarning: Unable to decode time axis into full numpy.datetime64 objects, continuing using cftime.datetime objects instead, reason: dates out of range\n",
      "  return array(a, dtype, copy=False, order=order)\n"
     ]
    }
   ],
   "source": [
    "ds = xr.open_dataset('/data/users/smoreton/Obs/ifremer_mxl/mld_DR003_c1m_reg2.0.nc')"
   ]
  },
  {
   "cell_type": "code",
   "execution_count": 9,
   "id": "breeding-being",
   "metadata": {},
   "outputs": [],
   "source": [
    "#average MXL: 300-310 degW 55-62 degN \n",
    "imin = find_nearest(ds.lon, 300)\n",
    "imax = find_nearest(ds.lon, 310)\n",
    "jmin = find_nearest(ds.lat, 55)\n",
    "jmax = find_nearest(ds.lat, 62)"
   ]
  },
  {
   "cell_type": "code",
   "execution_count": 17,
   "id": "attempted-offer",
   "metadata": {},
   "outputs": [],
   "source": [
    "mld_lab = ds.mld[2,jmin:jmax,imin:imax] #selecting March (3rd month)"
   ]
  },
  {
   "cell_type": "code",
   "execution_count": 23,
   "id": "korean-excellence",
   "metadata": {},
   "outputs": [],
   "source": [
    "mld_lab_1D = mld_lab.values.ravel()\n",
    "mld_lab_1D[mld_lab_1D == 1E9] = np.nan"
   ]
  },
  {
   "cell_type": "code",
   "execution_count": 24,
   "id": "mechanical-leadership",
   "metadata": {},
   "outputs": [
    {
     "data": {
      "text/html": [
       "<div><svg style=\"position: absolute; width: 0; height: 0; overflow: hidden\">\n",
       "<defs>\n",
       "<symbol id=\"icon-database\" viewBox=\"0 0 32 32\">\n",
       "<path d=\"M16 0c-8.837 0-16 2.239-16 5v4c0 2.761 7.163 5 16 5s16-2.239 16-5v-4c0-2.761-7.163-5-16-5z\"></path>\n",
       "<path d=\"M16 17c-8.837 0-16-2.239-16-5v6c0 2.761 7.163 5 16 5s16-2.239 16-5v-6c0 2.761-7.163 5-16 5z\"></path>\n",
       "<path d=\"M16 26c-8.837 0-16-2.239-16-5v6c0 2.761 7.163 5 16 5s16-2.239 16-5v-6c0 2.761-7.163 5-16 5z\"></path>\n",
       "</symbol>\n",
       "<symbol id=\"icon-file-text2\" viewBox=\"0 0 32 32\">\n",
       "<path d=\"M28.681 7.159c-0.694-0.947-1.662-2.053-2.724-3.116s-2.169-2.030-3.116-2.724c-1.612-1.182-2.393-1.319-2.841-1.319h-15.5c-1.378 0-2.5 1.121-2.5 2.5v27c0 1.378 1.122 2.5 2.5 2.5h23c1.378 0 2.5-1.122 2.5-2.5v-19.5c0-0.448-0.137-1.23-1.319-2.841zM24.543 5.457c0.959 0.959 1.712 1.825 2.268 2.543h-4.811v-4.811c0.718 0.556 1.584 1.309 2.543 2.268zM28 29.5c0 0.271-0.229 0.5-0.5 0.5h-23c-0.271 0-0.5-0.229-0.5-0.5v-27c0-0.271 0.229-0.5 0.5-0.5 0 0 15.499-0 15.5 0v7c0 0.552 0.448 1 1 1h7v19.5z\"></path>\n",
       "<path d=\"M23 26h-14c-0.552 0-1-0.448-1-1s0.448-1 1-1h14c0.552 0 1 0.448 1 1s-0.448 1-1 1z\"></path>\n",
       "<path d=\"M23 22h-14c-0.552 0-1-0.448-1-1s0.448-1 1-1h14c0.552 0 1 0.448 1 1s-0.448 1-1 1z\"></path>\n",
       "<path d=\"M23 18h-14c-0.552 0-1-0.448-1-1s0.448-1 1-1h14c0.552 0 1 0.448 1 1s-0.448 1-1 1z\"></path>\n",
       "</symbol>\n",
       "</defs>\n",
       "</svg>\n",
       "<style>/* CSS stylesheet for displaying xarray objects in jupyterlab.\n",
       " *\n",
       " */\n",
       "\n",
       ":root {\n",
       "  --xr-font-color0: var(--jp-content-font-color0, rgba(0, 0, 0, 1));\n",
       "  --xr-font-color2: var(--jp-content-font-color2, rgba(0, 0, 0, 0.54));\n",
       "  --xr-font-color3: var(--jp-content-font-color3, rgba(0, 0, 0, 0.38));\n",
       "  --xr-border-color: var(--jp-border-color2, #e0e0e0);\n",
       "  --xr-disabled-color: var(--jp-layout-color3, #bdbdbd);\n",
       "  --xr-background-color: var(--jp-layout-color0, white);\n",
       "  --xr-background-color-row-even: var(--jp-layout-color1, white);\n",
       "  --xr-background-color-row-odd: var(--jp-layout-color2, #eeeeee);\n",
       "}\n",
       "\n",
       "html[theme=dark],\n",
       "body.vscode-dark {\n",
       "  --xr-font-color0: rgba(255, 255, 255, 1);\n",
       "  --xr-font-color2: rgba(255, 255, 255, 0.54);\n",
       "  --xr-font-color3: rgba(255, 255, 255, 0.38);\n",
       "  --xr-border-color: #1F1F1F;\n",
       "  --xr-disabled-color: #515151;\n",
       "  --xr-background-color: #111111;\n",
       "  --xr-background-color-row-even: #111111;\n",
       "  --xr-background-color-row-odd: #313131;\n",
       "}\n",
       "\n",
       ".xr-wrap {\n",
       "  display: block;\n",
       "  min-width: 300px;\n",
       "  max-width: 700px;\n",
       "}\n",
       "\n",
       ".xr-text-repr-fallback {\n",
       "  /* fallback to plain text repr when CSS is not injected (untrusted notebook) */\n",
       "  display: none;\n",
       "}\n",
       "\n",
       ".xr-header {\n",
       "  padding-top: 6px;\n",
       "  padding-bottom: 6px;\n",
       "  margin-bottom: 4px;\n",
       "  border-bottom: solid 1px var(--xr-border-color);\n",
       "}\n",
       "\n",
       ".xr-header > div,\n",
       ".xr-header > ul {\n",
       "  display: inline;\n",
       "  margin-top: 0;\n",
       "  margin-bottom: 0;\n",
       "}\n",
       "\n",
       ".xr-obj-type,\n",
       ".xr-array-name {\n",
       "  margin-left: 2px;\n",
       "  margin-right: 10px;\n",
       "}\n",
       "\n",
       ".xr-obj-type {\n",
       "  color: var(--xr-font-color2);\n",
       "}\n",
       "\n",
       ".xr-sections {\n",
       "  padding-left: 0 !important;\n",
       "  display: grid;\n",
       "  grid-template-columns: 150px auto auto 1fr 20px 20px;\n",
       "}\n",
       "\n",
       ".xr-section-item {\n",
       "  display: contents;\n",
       "}\n",
       "\n",
       ".xr-section-item input {\n",
       "  display: none;\n",
       "}\n",
       "\n",
       ".xr-section-item input + label {\n",
       "  color: var(--xr-disabled-color);\n",
       "}\n",
       "\n",
       ".xr-section-item input:enabled + label {\n",
       "  cursor: pointer;\n",
       "  color: var(--xr-font-color2);\n",
       "}\n",
       "\n",
       ".xr-section-item input:enabled + label:hover {\n",
       "  color: var(--xr-font-color0);\n",
       "}\n",
       "\n",
       ".xr-section-summary {\n",
       "  grid-column: 1;\n",
       "  color: var(--xr-font-color2);\n",
       "  font-weight: 500;\n",
       "}\n",
       "\n",
       ".xr-section-summary > span {\n",
       "  display: inline-block;\n",
       "  padding-left: 0.5em;\n",
       "}\n",
       "\n",
       ".xr-section-summary-in:disabled + label {\n",
       "  color: var(--xr-font-color2);\n",
       "}\n",
       "\n",
       ".xr-section-summary-in + label:before {\n",
       "  display: inline-block;\n",
       "  content: '►';\n",
       "  font-size: 11px;\n",
       "  width: 15px;\n",
       "  text-align: center;\n",
       "}\n",
       "\n",
       ".xr-section-summary-in:disabled + label:before {\n",
       "  color: var(--xr-disabled-color);\n",
       "}\n",
       "\n",
       ".xr-section-summary-in:checked + label:before {\n",
       "  content: '▼';\n",
       "}\n",
       "\n",
       ".xr-section-summary-in:checked + label > span {\n",
       "  display: none;\n",
       "}\n",
       "\n",
       ".xr-section-summary,\n",
       ".xr-section-inline-details {\n",
       "  padding-top: 4px;\n",
       "  padding-bottom: 4px;\n",
       "}\n",
       "\n",
       ".xr-section-inline-details {\n",
       "  grid-column: 2 / -1;\n",
       "}\n",
       "\n",
       ".xr-section-details {\n",
       "  display: none;\n",
       "  grid-column: 1 / -1;\n",
       "  margin-bottom: 5px;\n",
       "}\n",
       "\n",
       ".xr-section-summary-in:checked ~ .xr-section-details {\n",
       "  display: contents;\n",
       "}\n",
       "\n",
       ".xr-array-wrap {\n",
       "  grid-column: 1 / -1;\n",
       "  display: grid;\n",
       "  grid-template-columns: 20px auto;\n",
       "}\n",
       "\n",
       ".xr-array-wrap > label {\n",
       "  grid-column: 1;\n",
       "  vertical-align: top;\n",
       "}\n",
       "\n",
       ".xr-preview {\n",
       "  color: var(--xr-font-color3);\n",
       "}\n",
       "\n",
       ".xr-array-preview,\n",
       ".xr-array-data {\n",
       "  padding: 0 5px !important;\n",
       "  grid-column: 2;\n",
       "}\n",
       "\n",
       ".xr-array-data,\n",
       ".xr-array-in:checked ~ .xr-array-preview {\n",
       "  display: none;\n",
       "}\n",
       "\n",
       ".xr-array-in:checked ~ .xr-array-data,\n",
       ".xr-array-preview {\n",
       "  display: inline-block;\n",
       "}\n",
       "\n",
       ".xr-dim-list {\n",
       "  display: inline-block !important;\n",
       "  list-style: none;\n",
       "  padding: 0 !important;\n",
       "  margin: 0;\n",
       "}\n",
       "\n",
       ".xr-dim-list li {\n",
       "  display: inline-block;\n",
       "  padding: 0;\n",
       "  margin: 0;\n",
       "}\n",
       "\n",
       ".xr-dim-list:before {\n",
       "  content: '(';\n",
       "}\n",
       "\n",
       ".xr-dim-list:after {\n",
       "  content: ')';\n",
       "}\n",
       "\n",
       ".xr-dim-list li:not(:last-child):after {\n",
       "  content: ',';\n",
       "  padding-right: 5px;\n",
       "}\n",
       "\n",
       ".xr-has-index {\n",
       "  font-weight: bold;\n",
       "}\n",
       "\n",
       ".xr-var-list,\n",
       ".xr-var-item {\n",
       "  display: contents;\n",
       "}\n",
       "\n",
       ".xr-var-item > div,\n",
       ".xr-var-item label,\n",
       ".xr-var-item > .xr-var-name span {\n",
       "  background-color: var(--xr-background-color-row-even);\n",
       "  margin-bottom: 0;\n",
       "}\n",
       "\n",
       ".xr-var-item > .xr-var-name:hover span {\n",
       "  padding-right: 5px;\n",
       "}\n",
       "\n",
       ".xr-var-list > li:nth-child(odd) > div,\n",
       ".xr-var-list > li:nth-child(odd) > label,\n",
       ".xr-var-list > li:nth-child(odd) > .xr-var-name span {\n",
       "  background-color: var(--xr-background-color-row-odd);\n",
       "}\n",
       "\n",
       ".xr-var-name {\n",
       "  grid-column: 1;\n",
       "}\n",
       "\n",
       ".xr-var-dims {\n",
       "  grid-column: 2;\n",
       "}\n",
       "\n",
       ".xr-var-dtype {\n",
       "  grid-column: 3;\n",
       "  text-align: right;\n",
       "  color: var(--xr-font-color2);\n",
       "}\n",
       "\n",
       ".xr-var-preview {\n",
       "  grid-column: 4;\n",
       "}\n",
       "\n",
       ".xr-var-name,\n",
       ".xr-var-dims,\n",
       ".xr-var-dtype,\n",
       ".xr-preview,\n",
       ".xr-attrs dt {\n",
       "  white-space: nowrap;\n",
       "  overflow: hidden;\n",
       "  text-overflow: ellipsis;\n",
       "  padding-right: 10px;\n",
       "}\n",
       "\n",
       ".xr-var-name:hover,\n",
       ".xr-var-dims:hover,\n",
       ".xr-var-dtype:hover,\n",
       ".xr-attrs dt:hover {\n",
       "  overflow: visible;\n",
       "  width: auto;\n",
       "  z-index: 1;\n",
       "}\n",
       "\n",
       ".xr-var-attrs,\n",
       ".xr-var-data {\n",
       "  display: none;\n",
       "  background-color: var(--xr-background-color) !important;\n",
       "  padding-bottom: 5px !important;\n",
       "}\n",
       "\n",
       ".xr-var-attrs-in:checked ~ .xr-var-attrs,\n",
       ".xr-var-data-in:checked ~ .xr-var-data {\n",
       "  display: block;\n",
       "}\n",
       "\n",
       ".xr-var-data > table {\n",
       "  float: right;\n",
       "}\n",
       "\n",
       ".xr-var-name span,\n",
       ".xr-var-data,\n",
       ".xr-attrs {\n",
       "  padding-left: 25px !important;\n",
       "}\n",
       "\n",
       ".xr-attrs,\n",
       ".xr-var-attrs,\n",
       ".xr-var-data {\n",
       "  grid-column: 1 / -1;\n",
       "}\n",
       "\n",
       "dl.xr-attrs {\n",
       "  padding: 0;\n",
       "  margin: 0;\n",
       "  display: grid;\n",
       "  grid-template-columns: 125px auto;\n",
       "}\n",
       "\n",
       ".xr-attrs dt,\n",
       ".xr-attrs dd {\n",
       "  padding: 0;\n",
       "  margin: 0;\n",
       "  float: left;\n",
       "  padding-right: 10px;\n",
       "  width: auto;\n",
       "}\n",
       "\n",
       ".xr-attrs dt {\n",
       "  font-weight: normal;\n",
       "  grid-column: 1;\n",
       "}\n",
       "\n",
       ".xr-attrs dt:hover span {\n",
       "  display: inline-block;\n",
       "  background: var(--xr-background-color);\n",
       "  padding-right: 10px;\n",
       "}\n",
       "\n",
       ".xr-attrs dd {\n",
       "  grid-column: 2;\n",
       "  white-space: pre-wrap;\n",
       "  word-break: break-all;\n",
       "}\n",
       "\n",
       ".xr-icon-database,\n",
       ".xr-icon-file-text2 {\n",
       "  display: inline-block;\n",
       "  vertical-align: middle;\n",
       "  width: 1em;\n",
       "  height: 1.5em !important;\n",
       "  stroke-width: 0;\n",
       "  stroke: currentColor;\n",
       "  fill: currentColor;\n",
       "}\n",
       "</style><pre class='xr-text-repr-fallback'>&lt;xarray.DataArray &#x27;mld&#x27; ()&gt;\n",
       "array(489.09293, dtype=float32)\n",
       "Coordinates:\n",
       "    time     object 0001-03-15 12:00:00</pre><div class='xr-wrap' hidden><div class='xr-header'><div class='xr-obj-type'>xarray.DataArray</div><div class='xr-array-name'>'mld'</div></div><ul class='xr-sections'><li class='xr-section-item'><div class='xr-array-wrap'><input id='section-746f229d-2791-4951-a36a-b252e0a867e7' class='xr-array-in' type='checkbox' checked><label for='section-746f229d-2791-4951-a36a-b252e0a867e7' title='Show/hide data repr'><svg class='icon xr-icon-database'><use xlink:href='#icon-database'></use></svg></label><div class='xr-array-preview xr-preview'><span>489.1</span></div><div class='xr-array-data'><pre>array(489.09293, dtype=float32)</pre></div></div></li><li class='xr-section-item'><input id='section-7e411106-7a43-47e6-be74-ce1d86ae3870' class='xr-section-summary-in' type='checkbox'  checked><label for='section-7e411106-7a43-47e6-be74-ce1d86ae3870' class='xr-section-summary' >Coordinates: <span>(1)</span></label><div class='xr-section-inline-details'></div><div class='xr-section-details'><ul class='xr-var-list'><li class='xr-var-item'><div class='xr-var-name'><span>time</span></div><div class='xr-var-dims'>()</div><div class='xr-var-dtype'>object</div><div class='xr-var-preview xr-preview'>0001-03-15 12:00:00</div><input id='attrs-4db23157-e8e9-471e-86b2-4d6fa96d0e4f' class='xr-var-attrs-in' type='checkbox' disabled><label for='attrs-4db23157-e8e9-471e-86b2-4d6fa96d0e4f' title='Show/Hide attributes'><svg class='icon xr-icon-file-text2'><use xlink:href='#icon-file-text2'></use></svg></label><input id='data-34f0f341-2240-43b1-a108-d9f121406a98' class='xr-var-data-in' type='checkbox'><label for='data-34f0f341-2240-43b1-a108-d9f121406a98' title='Show/Hide data repr'><svg class='icon xr-icon-database'><use xlink:href='#icon-database'></use></svg></label><div class='xr-var-attrs'><dl class='xr-attrs'></dl></div><div class='xr-var-data'><pre>array(cftime.DatetimeGregorian(1, 3, 15, 12, 0, 0, 0), dtype=object)</pre></div></li></ul></div></li><li class='xr-section-item'><input id='section-f98c6837-d396-4b4a-b4f6-aeac86cbd0ca' class='xr-section-summary-in' type='checkbox' disabled ><label for='section-f98c6837-d396-4b4a-b4f6-aeac86cbd0ca' class='xr-section-summary'  title='Expand/collapse section'>Attributes: <span>(0)</span></label><div class='xr-section-inline-details'></div><div class='xr-section-details'><dl class='xr-attrs'></dl></div></li></ul></div></div>"
      ],
      "text/plain": [
       "<xarray.DataArray 'mld' ()>\n",
       "array(489.09293, dtype=float32)\n",
       "Coordinates:\n",
       "    time     object 0001-03-15 12:00:00"
      ]
     },
     "execution_count": 24,
     "metadata": {},
     "output_type": "execute_result"
    }
   ],
   "source": [
    "mld_lab.mean()"
   ]
  },
  {
   "cell_type": "code",
   "execution_count": 26,
   "id": "smoking-confidentiality",
   "metadata": {},
   "outputs": [
    {
     "data": {
      "text/html": [
       "<div><svg style=\"position: absolute; width: 0; height: 0; overflow: hidden\">\n",
       "<defs>\n",
       "<symbol id=\"icon-database\" viewBox=\"0 0 32 32\">\n",
       "<path d=\"M16 0c-8.837 0-16 2.239-16 5v4c0 2.761 7.163 5 16 5s16-2.239 16-5v-4c0-2.761-7.163-5-16-5z\"></path>\n",
       "<path d=\"M16 17c-8.837 0-16-2.239-16-5v6c0 2.761 7.163 5 16 5s16-2.239 16-5v-6c0 2.761-7.163 5-16 5z\"></path>\n",
       "<path d=\"M16 26c-8.837 0-16-2.239-16-5v6c0 2.761 7.163 5 16 5s16-2.239 16-5v-6c0 2.761-7.163 5-16 5z\"></path>\n",
       "</symbol>\n",
       "<symbol id=\"icon-file-text2\" viewBox=\"0 0 32 32\">\n",
       "<path d=\"M28.681 7.159c-0.694-0.947-1.662-2.053-2.724-3.116s-2.169-2.030-3.116-2.724c-1.612-1.182-2.393-1.319-2.841-1.319h-15.5c-1.378 0-2.5 1.121-2.5 2.5v27c0 1.378 1.122 2.5 2.5 2.5h23c1.378 0 2.5-1.122 2.5-2.5v-19.5c0-0.448-0.137-1.23-1.319-2.841zM24.543 5.457c0.959 0.959 1.712 1.825 2.268 2.543h-4.811v-4.811c0.718 0.556 1.584 1.309 2.543 2.268zM28 29.5c0 0.271-0.229 0.5-0.5 0.5h-23c-0.271 0-0.5-0.229-0.5-0.5v-27c0-0.271 0.229-0.5 0.5-0.5 0 0 15.499-0 15.5 0v7c0 0.552 0.448 1 1 1h7v19.5z\"></path>\n",
       "<path d=\"M23 26h-14c-0.552 0-1-0.448-1-1s0.448-1 1-1h14c0.552 0 1 0.448 1 1s-0.448 1-1 1z\"></path>\n",
       "<path d=\"M23 22h-14c-0.552 0-1-0.448-1-1s0.448-1 1-1h14c0.552 0 1 0.448 1 1s-0.448 1-1 1z\"></path>\n",
       "<path d=\"M23 18h-14c-0.552 0-1-0.448-1-1s0.448-1 1-1h14c0.552 0 1 0.448 1 1s-0.448 1-1 1z\"></path>\n",
       "</symbol>\n",
       "</defs>\n",
       "</svg>\n",
       "<style>/* CSS stylesheet for displaying xarray objects in jupyterlab.\n",
       " *\n",
       " */\n",
       "\n",
       ":root {\n",
       "  --xr-font-color0: var(--jp-content-font-color0, rgba(0, 0, 0, 1));\n",
       "  --xr-font-color2: var(--jp-content-font-color2, rgba(0, 0, 0, 0.54));\n",
       "  --xr-font-color3: var(--jp-content-font-color3, rgba(0, 0, 0, 0.38));\n",
       "  --xr-border-color: var(--jp-border-color2, #e0e0e0);\n",
       "  --xr-disabled-color: var(--jp-layout-color3, #bdbdbd);\n",
       "  --xr-background-color: var(--jp-layout-color0, white);\n",
       "  --xr-background-color-row-even: var(--jp-layout-color1, white);\n",
       "  --xr-background-color-row-odd: var(--jp-layout-color2, #eeeeee);\n",
       "}\n",
       "\n",
       "html[theme=dark],\n",
       "body.vscode-dark {\n",
       "  --xr-font-color0: rgba(255, 255, 255, 1);\n",
       "  --xr-font-color2: rgba(255, 255, 255, 0.54);\n",
       "  --xr-font-color3: rgba(255, 255, 255, 0.38);\n",
       "  --xr-border-color: #1F1F1F;\n",
       "  --xr-disabled-color: #515151;\n",
       "  --xr-background-color: #111111;\n",
       "  --xr-background-color-row-even: #111111;\n",
       "  --xr-background-color-row-odd: #313131;\n",
       "}\n",
       "\n",
       ".xr-wrap {\n",
       "  display: block;\n",
       "  min-width: 300px;\n",
       "  max-width: 700px;\n",
       "}\n",
       "\n",
       ".xr-text-repr-fallback {\n",
       "  /* fallback to plain text repr when CSS is not injected (untrusted notebook) */\n",
       "  display: none;\n",
       "}\n",
       "\n",
       ".xr-header {\n",
       "  padding-top: 6px;\n",
       "  padding-bottom: 6px;\n",
       "  margin-bottom: 4px;\n",
       "  border-bottom: solid 1px var(--xr-border-color);\n",
       "}\n",
       "\n",
       ".xr-header > div,\n",
       ".xr-header > ul {\n",
       "  display: inline;\n",
       "  margin-top: 0;\n",
       "  margin-bottom: 0;\n",
       "}\n",
       "\n",
       ".xr-obj-type,\n",
       ".xr-array-name {\n",
       "  margin-left: 2px;\n",
       "  margin-right: 10px;\n",
       "}\n",
       "\n",
       ".xr-obj-type {\n",
       "  color: var(--xr-font-color2);\n",
       "}\n",
       "\n",
       ".xr-sections {\n",
       "  padding-left: 0 !important;\n",
       "  display: grid;\n",
       "  grid-template-columns: 150px auto auto 1fr 20px 20px;\n",
       "}\n",
       "\n",
       ".xr-section-item {\n",
       "  display: contents;\n",
       "}\n",
       "\n",
       ".xr-section-item input {\n",
       "  display: none;\n",
       "}\n",
       "\n",
       ".xr-section-item input + label {\n",
       "  color: var(--xr-disabled-color);\n",
       "}\n",
       "\n",
       ".xr-section-item input:enabled + label {\n",
       "  cursor: pointer;\n",
       "  color: var(--xr-font-color2);\n",
       "}\n",
       "\n",
       ".xr-section-item input:enabled + label:hover {\n",
       "  color: var(--xr-font-color0);\n",
       "}\n",
       "\n",
       ".xr-section-summary {\n",
       "  grid-column: 1;\n",
       "  color: var(--xr-font-color2);\n",
       "  font-weight: 500;\n",
       "}\n",
       "\n",
       ".xr-section-summary > span {\n",
       "  display: inline-block;\n",
       "  padding-left: 0.5em;\n",
       "}\n",
       "\n",
       ".xr-section-summary-in:disabled + label {\n",
       "  color: var(--xr-font-color2);\n",
       "}\n",
       "\n",
       ".xr-section-summary-in + label:before {\n",
       "  display: inline-block;\n",
       "  content: '►';\n",
       "  font-size: 11px;\n",
       "  width: 15px;\n",
       "  text-align: center;\n",
       "}\n",
       "\n",
       ".xr-section-summary-in:disabled + label:before {\n",
       "  color: var(--xr-disabled-color);\n",
       "}\n",
       "\n",
       ".xr-section-summary-in:checked + label:before {\n",
       "  content: '▼';\n",
       "}\n",
       "\n",
       ".xr-section-summary-in:checked + label > span {\n",
       "  display: none;\n",
       "}\n",
       "\n",
       ".xr-section-summary,\n",
       ".xr-section-inline-details {\n",
       "  padding-top: 4px;\n",
       "  padding-bottom: 4px;\n",
       "}\n",
       "\n",
       ".xr-section-inline-details {\n",
       "  grid-column: 2 / -1;\n",
       "}\n",
       "\n",
       ".xr-section-details {\n",
       "  display: none;\n",
       "  grid-column: 1 / -1;\n",
       "  margin-bottom: 5px;\n",
       "}\n",
       "\n",
       ".xr-section-summary-in:checked ~ .xr-section-details {\n",
       "  display: contents;\n",
       "}\n",
       "\n",
       ".xr-array-wrap {\n",
       "  grid-column: 1 / -1;\n",
       "  display: grid;\n",
       "  grid-template-columns: 20px auto;\n",
       "}\n",
       "\n",
       ".xr-array-wrap > label {\n",
       "  grid-column: 1;\n",
       "  vertical-align: top;\n",
       "}\n",
       "\n",
       ".xr-preview {\n",
       "  color: var(--xr-font-color3);\n",
       "}\n",
       "\n",
       ".xr-array-preview,\n",
       ".xr-array-data {\n",
       "  padding: 0 5px !important;\n",
       "  grid-column: 2;\n",
       "}\n",
       "\n",
       ".xr-array-data,\n",
       ".xr-array-in:checked ~ .xr-array-preview {\n",
       "  display: none;\n",
       "}\n",
       "\n",
       ".xr-array-in:checked ~ .xr-array-data,\n",
       ".xr-array-preview {\n",
       "  display: inline-block;\n",
       "}\n",
       "\n",
       ".xr-dim-list {\n",
       "  display: inline-block !important;\n",
       "  list-style: none;\n",
       "  padding: 0 !important;\n",
       "  margin: 0;\n",
       "}\n",
       "\n",
       ".xr-dim-list li {\n",
       "  display: inline-block;\n",
       "  padding: 0;\n",
       "  margin: 0;\n",
       "}\n",
       "\n",
       ".xr-dim-list:before {\n",
       "  content: '(';\n",
       "}\n",
       "\n",
       ".xr-dim-list:after {\n",
       "  content: ')';\n",
       "}\n",
       "\n",
       ".xr-dim-list li:not(:last-child):after {\n",
       "  content: ',';\n",
       "  padding-right: 5px;\n",
       "}\n",
       "\n",
       ".xr-has-index {\n",
       "  font-weight: bold;\n",
       "}\n",
       "\n",
       ".xr-var-list,\n",
       ".xr-var-item {\n",
       "  display: contents;\n",
       "}\n",
       "\n",
       ".xr-var-item > div,\n",
       ".xr-var-item label,\n",
       ".xr-var-item > .xr-var-name span {\n",
       "  background-color: var(--xr-background-color-row-even);\n",
       "  margin-bottom: 0;\n",
       "}\n",
       "\n",
       ".xr-var-item > .xr-var-name:hover span {\n",
       "  padding-right: 5px;\n",
       "}\n",
       "\n",
       ".xr-var-list > li:nth-child(odd) > div,\n",
       ".xr-var-list > li:nth-child(odd) > label,\n",
       ".xr-var-list > li:nth-child(odd) > .xr-var-name span {\n",
       "  background-color: var(--xr-background-color-row-odd);\n",
       "}\n",
       "\n",
       ".xr-var-name {\n",
       "  grid-column: 1;\n",
       "}\n",
       "\n",
       ".xr-var-dims {\n",
       "  grid-column: 2;\n",
       "}\n",
       "\n",
       ".xr-var-dtype {\n",
       "  grid-column: 3;\n",
       "  text-align: right;\n",
       "  color: var(--xr-font-color2);\n",
       "}\n",
       "\n",
       ".xr-var-preview {\n",
       "  grid-column: 4;\n",
       "}\n",
       "\n",
       ".xr-var-name,\n",
       ".xr-var-dims,\n",
       ".xr-var-dtype,\n",
       ".xr-preview,\n",
       ".xr-attrs dt {\n",
       "  white-space: nowrap;\n",
       "  overflow: hidden;\n",
       "  text-overflow: ellipsis;\n",
       "  padding-right: 10px;\n",
       "}\n",
       "\n",
       ".xr-var-name:hover,\n",
       ".xr-var-dims:hover,\n",
       ".xr-var-dtype:hover,\n",
       ".xr-attrs dt:hover {\n",
       "  overflow: visible;\n",
       "  width: auto;\n",
       "  z-index: 1;\n",
       "}\n",
       "\n",
       ".xr-var-attrs,\n",
       ".xr-var-data {\n",
       "  display: none;\n",
       "  background-color: var(--xr-background-color) !important;\n",
       "  padding-bottom: 5px !important;\n",
       "}\n",
       "\n",
       ".xr-var-attrs-in:checked ~ .xr-var-attrs,\n",
       ".xr-var-data-in:checked ~ .xr-var-data {\n",
       "  display: block;\n",
       "}\n",
       "\n",
       ".xr-var-data > table {\n",
       "  float: right;\n",
       "}\n",
       "\n",
       ".xr-var-name span,\n",
       ".xr-var-data,\n",
       ".xr-attrs {\n",
       "  padding-left: 25px !important;\n",
       "}\n",
       "\n",
       ".xr-attrs,\n",
       ".xr-var-attrs,\n",
       ".xr-var-data {\n",
       "  grid-column: 1 / -1;\n",
       "}\n",
       "\n",
       "dl.xr-attrs {\n",
       "  padding: 0;\n",
       "  margin: 0;\n",
       "  display: grid;\n",
       "  grid-template-columns: 125px auto;\n",
       "}\n",
       "\n",
       ".xr-attrs dt,\n",
       ".xr-attrs dd {\n",
       "  padding: 0;\n",
       "  margin: 0;\n",
       "  float: left;\n",
       "  padding-right: 10px;\n",
       "  width: auto;\n",
       "}\n",
       "\n",
       ".xr-attrs dt {\n",
       "  font-weight: normal;\n",
       "  grid-column: 1;\n",
       "}\n",
       "\n",
       ".xr-attrs dt:hover span {\n",
       "  display: inline-block;\n",
       "  background: var(--xr-background-color);\n",
       "  padding-right: 10px;\n",
       "}\n",
       "\n",
       ".xr-attrs dd {\n",
       "  grid-column: 2;\n",
       "  white-space: pre-wrap;\n",
       "  word-break: break-all;\n",
       "}\n",
       "\n",
       ".xr-icon-database,\n",
       ".xr-icon-file-text2 {\n",
       "  display: inline-block;\n",
       "  vertical-align: middle;\n",
       "  width: 1em;\n",
       "  height: 1.5em !important;\n",
       "  stroke-width: 0;\n",
       "  stroke: currentColor;\n",
       "  fill: currentColor;\n",
       "}\n",
       "</style><pre class='xr-text-repr-fallback'>&lt;xarray.DataArray &#x27;mld&#x27; ()&gt;\n",
       "array(974.16174, dtype=float32)\n",
       "Coordinates:\n",
       "    time     object 0001-03-15 12:00:00</pre><div class='xr-wrap' hidden><div class='xr-header'><div class='xr-obj-type'>xarray.DataArray</div><div class='xr-array-name'>'mld'</div></div><ul class='xr-sections'><li class='xr-section-item'><div class='xr-array-wrap'><input id='section-e5278783-bdd9-4c5e-bc30-867ebfd420eb' class='xr-array-in' type='checkbox' checked><label for='section-e5278783-bdd9-4c5e-bc30-867ebfd420eb' title='Show/hide data repr'><svg class='icon xr-icon-database'><use xlink:href='#icon-database'></use></svg></label><div class='xr-array-preview xr-preview'><span>974.2</span></div><div class='xr-array-data'><pre>array(974.16174, dtype=float32)</pre></div></div></li><li class='xr-section-item'><input id='section-99002e68-6dd4-4a1c-8238-ac0a0d432004' class='xr-section-summary-in' type='checkbox'  checked><label for='section-99002e68-6dd4-4a1c-8238-ac0a0d432004' class='xr-section-summary' >Coordinates: <span>(1)</span></label><div class='xr-section-inline-details'></div><div class='xr-section-details'><ul class='xr-var-list'><li class='xr-var-item'><div class='xr-var-name'><span>time</span></div><div class='xr-var-dims'>()</div><div class='xr-var-dtype'>object</div><div class='xr-var-preview xr-preview'>0001-03-15 12:00:00</div><input id='attrs-61812e0d-316e-4cf7-b9dc-3879127c0e77' class='xr-var-attrs-in' type='checkbox' disabled><label for='attrs-61812e0d-316e-4cf7-b9dc-3879127c0e77' title='Show/Hide attributes'><svg class='icon xr-icon-file-text2'><use xlink:href='#icon-file-text2'></use></svg></label><input id='data-2eeb4fab-aeee-4f1e-8544-4d1f1bff6e9f' class='xr-var-data-in' type='checkbox'><label for='data-2eeb4fab-aeee-4f1e-8544-4d1f1bff6e9f' title='Show/Hide data repr'><svg class='icon xr-icon-database'><use xlink:href='#icon-database'></use></svg></label><div class='xr-var-attrs'><dl class='xr-attrs'></dl></div><div class='xr-var-data'><pre>array(cftime.DatetimeGregorian(1, 3, 15, 12, 0, 0, 0), dtype=object)</pre></div></li></ul></div></li><li class='xr-section-item'><input id='section-3dd8070e-844a-4828-ad86-7f31b8e71551' class='xr-section-summary-in' type='checkbox' disabled ><label for='section-3dd8070e-844a-4828-ad86-7f31b8e71551' class='xr-section-summary'  title='Expand/collapse section'>Attributes: <span>(0)</span></label><div class='xr-section-inline-details'></div><div class='xr-section-details'><dl class='xr-attrs'></dl></div></li></ul></div></div>"
      ],
      "text/plain": [
       "<xarray.DataArray 'mld' ()>\n",
       "array(974.16174, dtype=float32)\n",
       "Coordinates:\n",
       "    time     object 0001-03-15 12:00:00"
      ]
     },
     "execution_count": 26,
     "metadata": {},
     "output_type": "execute_result"
    }
   ],
   "source": [
    "mld_lab.max()"
   ]
  },
  {
   "cell_type": "code",
   "execution_count": 27,
   "id": "applied-medium",
   "metadata": {},
   "outputs": [
    {
     "data": {
      "text/html": [
       "<div><svg style=\"position: absolute; width: 0; height: 0; overflow: hidden\">\n",
       "<defs>\n",
       "<symbol id=\"icon-database\" viewBox=\"0 0 32 32\">\n",
       "<path d=\"M16 0c-8.837 0-16 2.239-16 5v4c0 2.761 7.163 5 16 5s16-2.239 16-5v-4c0-2.761-7.163-5-16-5z\"></path>\n",
       "<path d=\"M16 17c-8.837 0-16-2.239-16-5v6c0 2.761 7.163 5 16 5s16-2.239 16-5v-6c0 2.761-7.163 5-16 5z\"></path>\n",
       "<path d=\"M16 26c-8.837 0-16-2.239-16-5v6c0 2.761 7.163 5 16 5s16-2.239 16-5v-6c0 2.761-7.163 5-16 5z\"></path>\n",
       "</symbol>\n",
       "<symbol id=\"icon-file-text2\" viewBox=\"0 0 32 32\">\n",
       "<path d=\"M28.681 7.159c-0.694-0.947-1.662-2.053-2.724-3.116s-2.169-2.030-3.116-2.724c-1.612-1.182-2.393-1.319-2.841-1.319h-15.5c-1.378 0-2.5 1.121-2.5 2.5v27c0 1.378 1.122 2.5 2.5 2.5h23c1.378 0 2.5-1.122 2.5-2.5v-19.5c0-0.448-0.137-1.23-1.319-2.841zM24.543 5.457c0.959 0.959 1.712 1.825 2.268 2.543h-4.811v-4.811c0.718 0.556 1.584 1.309 2.543 2.268zM28 29.5c0 0.271-0.229 0.5-0.5 0.5h-23c-0.271 0-0.5-0.229-0.5-0.5v-27c0-0.271 0.229-0.5 0.5-0.5 0 0 15.499-0 15.5 0v7c0 0.552 0.448 1 1 1h7v19.5z\"></path>\n",
       "<path d=\"M23 26h-14c-0.552 0-1-0.448-1-1s0.448-1 1-1h14c0.552 0 1 0.448 1 1s-0.448 1-1 1z\"></path>\n",
       "<path d=\"M23 22h-14c-0.552 0-1-0.448-1-1s0.448-1 1-1h14c0.552 0 1 0.448 1 1s-0.448 1-1 1z\"></path>\n",
       "<path d=\"M23 18h-14c-0.552 0-1-0.448-1-1s0.448-1 1-1h14c0.552 0 1 0.448 1 1s-0.448 1-1 1z\"></path>\n",
       "</symbol>\n",
       "</defs>\n",
       "</svg>\n",
       "<style>/* CSS stylesheet for displaying xarray objects in jupyterlab.\n",
       " *\n",
       " */\n",
       "\n",
       ":root {\n",
       "  --xr-font-color0: var(--jp-content-font-color0, rgba(0, 0, 0, 1));\n",
       "  --xr-font-color2: var(--jp-content-font-color2, rgba(0, 0, 0, 0.54));\n",
       "  --xr-font-color3: var(--jp-content-font-color3, rgba(0, 0, 0, 0.38));\n",
       "  --xr-border-color: var(--jp-border-color2, #e0e0e0);\n",
       "  --xr-disabled-color: var(--jp-layout-color3, #bdbdbd);\n",
       "  --xr-background-color: var(--jp-layout-color0, white);\n",
       "  --xr-background-color-row-even: var(--jp-layout-color1, white);\n",
       "  --xr-background-color-row-odd: var(--jp-layout-color2, #eeeeee);\n",
       "}\n",
       "\n",
       "html[theme=dark],\n",
       "body.vscode-dark {\n",
       "  --xr-font-color0: rgba(255, 255, 255, 1);\n",
       "  --xr-font-color2: rgba(255, 255, 255, 0.54);\n",
       "  --xr-font-color3: rgba(255, 255, 255, 0.38);\n",
       "  --xr-border-color: #1F1F1F;\n",
       "  --xr-disabled-color: #515151;\n",
       "  --xr-background-color: #111111;\n",
       "  --xr-background-color-row-even: #111111;\n",
       "  --xr-background-color-row-odd: #313131;\n",
       "}\n",
       "\n",
       ".xr-wrap {\n",
       "  display: block;\n",
       "  min-width: 300px;\n",
       "  max-width: 700px;\n",
       "}\n",
       "\n",
       ".xr-text-repr-fallback {\n",
       "  /* fallback to plain text repr when CSS is not injected (untrusted notebook) */\n",
       "  display: none;\n",
       "}\n",
       "\n",
       ".xr-header {\n",
       "  padding-top: 6px;\n",
       "  padding-bottom: 6px;\n",
       "  margin-bottom: 4px;\n",
       "  border-bottom: solid 1px var(--xr-border-color);\n",
       "}\n",
       "\n",
       ".xr-header > div,\n",
       ".xr-header > ul {\n",
       "  display: inline;\n",
       "  margin-top: 0;\n",
       "  margin-bottom: 0;\n",
       "}\n",
       "\n",
       ".xr-obj-type,\n",
       ".xr-array-name {\n",
       "  margin-left: 2px;\n",
       "  margin-right: 10px;\n",
       "}\n",
       "\n",
       ".xr-obj-type {\n",
       "  color: var(--xr-font-color2);\n",
       "}\n",
       "\n",
       ".xr-sections {\n",
       "  padding-left: 0 !important;\n",
       "  display: grid;\n",
       "  grid-template-columns: 150px auto auto 1fr 20px 20px;\n",
       "}\n",
       "\n",
       ".xr-section-item {\n",
       "  display: contents;\n",
       "}\n",
       "\n",
       ".xr-section-item input {\n",
       "  display: none;\n",
       "}\n",
       "\n",
       ".xr-section-item input + label {\n",
       "  color: var(--xr-disabled-color);\n",
       "}\n",
       "\n",
       ".xr-section-item input:enabled + label {\n",
       "  cursor: pointer;\n",
       "  color: var(--xr-font-color2);\n",
       "}\n",
       "\n",
       ".xr-section-item input:enabled + label:hover {\n",
       "  color: var(--xr-font-color0);\n",
       "}\n",
       "\n",
       ".xr-section-summary {\n",
       "  grid-column: 1;\n",
       "  color: var(--xr-font-color2);\n",
       "  font-weight: 500;\n",
       "}\n",
       "\n",
       ".xr-section-summary > span {\n",
       "  display: inline-block;\n",
       "  padding-left: 0.5em;\n",
       "}\n",
       "\n",
       ".xr-section-summary-in:disabled + label {\n",
       "  color: var(--xr-font-color2);\n",
       "}\n",
       "\n",
       ".xr-section-summary-in + label:before {\n",
       "  display: inline-block;\n",
       "  content: '►';\n",
       "  font-size: 11px;\n",
       "  width: 15px;\n",
       "  text-align: center;\n",
       "}\n",
       "\n",
       ".xr-section-summary-in:disabled + label:before {\n",
       "  color: var(--xr-disabled-color);\n",
       "}\n",
       "\n",
       ".xr-section-summary-in:checked + label:before {\n",
       "  content: '▼';\n",
       "}\n",
       "\n",
       ".xr-section-summary-in:checked + label > span {\n",
       "  display: none;\n",
       "}\n",
       "\n",
       ".xr-section-summary,\n",
       ".xr-section-inline-details {\n",
       "  padding-top: 4px;\n",
       "  padding-bottom: 4px;\n",
       "}\n",
       "\n",
       ".xr-section-inline-details {\n",
       "  grid-column: 2 / -1;\n",
       "}\n",
       "\n",
       ".xr-section-details {\n",
       "  display: none;\n",
       "  grid-column: 1 / -1;\n",
       "  margin-bottom: 5px;\n",
       "}\n",
       "\n",
       ".xr-section-summary-in:checked ~ .xr-section-details {\n",
       "  display: contents;\n",
       "}\n",
       "\n",
       ".xr-array-wrap {\n",
       "  grid-column: 1 / -1;\n",
       "  display: grid;\n",
       "  grid-template-columns: 20px auto;\n",
       "}\n",
       "\n",
       ".xr-array-wrap > label {\n",
       "  grid-column: 1;\n",
       "  vertical-align: top;\n",
       "}\n",
       "\n",
       ".xr-preview {\n",
       "  color: var(--xr-font-color3);\n",
       "}\n",
       "\n",
       ".xr-array-preview,\n",
       ".xr-array-data {\n",
       "  padding: 0 5px !important;\n",
       "  grid-column: 2;\n",
       "}\n",
       "\n",
       ".xr-array-data,\n",
       ".xr-array-in:checked ~ .xr-array-preview {\n",
       "  display: none;\n",
       "}\n",
       "\n",
       ".xr-array-in:checked ~ .xr-array-data,\n",
       ".xr-array-preview {\n",
       "  display: inline-block;\n",
       "}\n",
       "\n",
       ".xr-dim-list {\n",
       "  display: inline-block !important;\n",
       "  list-style: none;\n",
       "  padding: 0 !important;\n",
       "  margin: 0;\n",
       "}\n",
       "\n",
       ".xr-dim-list li {\n",
       "  display: inline-block;\n",
       "  padding: 0;\n",
       "  margin: 0;\n",
       "}\n",
       "\n",
       ".xr-dim-list:before {\n",
       "  content: '(';\n",
       "}\n",
       "\n",
       ".xr-dim-list:after {\n",
       "  content: ')';\n",
       "}\n",
       "\n",
       ".xr-dim-list li:not(:last-child):after {\n",
       "  content: ',';\n",
       "  padding-right: 5px;\n",
       "}\n",
       "\n",
       ".xr-has-index {\n",
       "  font-weight: bold;\n",
       "}\n",
       "\n",
       ".xr-var-list,\n",
       ".xr-var-item {\n",
       "  display: contents;\n",
       "}\n",
       "\n",
       ".xr-var-item > div,\n",
       ".xr-var-item label,\n",
       ".xr-var-item > .xr-var-name span {\n",
       "  background-color: var(--xr-background-color-row-even);\n",
       "  margin-bottom: 0;\n",
       "}\n",
       "\n",
       ".xr-var-item > .xr-var-name:hover span {\n",
       "  padding-right: 5px;\n",
       "}\n",
       "\n",
       ".xr-var-list > li:nth-child(odd) > div,\n",
       ".xr-var-list > li:nth-child(odd) > label,\n",
       ".xr-var-list > li:nth-child(odd) > .xr-var-name span {\n",
       "  background-color: var(--xr-background-color-row-odd);\n",
       "}\n",
       "\n",
       ".xr-var-name {\n",
       "  grid-column: 1;\n",
       "}\n",
       "\n",
       ".xr-var-dims {\n",
       "  grid-column: 2;\n",
       "}\n",
       "\n",
       ".xr-var-dtype {\n",
       "  grid-column: 3;\n",
       "  text-align: right;\n",
       "  color: var(--xr-font-color2);\n",
       "}\n",
       "\n",
       ".xr-var-preview {\n",
       "  grid-column: 4;\n",
       "}\n",
       "\n",
       ".xr-var-name,\n",
       ".xr-var-dims,\n",
       ".xr-var-dtype,\n",
       ".xr-preview,\n",
       ".xr-attrs dt {\n",
       "  white-space: nowrap;\n",
       "  overflow: hidden;\n",
       "  text-overflow: ellipsis;\n",
       "  padding-right: 10px;\n",
       "}\n",
       "\n",
       ".xr-var-name:hover,\n",
       ".xr-var-dims:hover,\n",
       ".xr-var-dtype:hover,\n",
       ".xr-attrs dt:hover {\n",
       "  overflow: visible;\n",
       "  width: auto;\n",
       "  z-index: 1;\n",
       "}\n",
       "\n",
       ".xr-var-attrs,\n",
       ".xr-var-data {\n",
       "  display: none;\n",
       "  background-color: var(--xr-background-color) !important;\n",
       "  padding-bottom: 5px !important;\n",
       "}\n",
       "\n",
       ".xr-var-attrs-in:checked ~ .xr-var-attrs,\n",
       ".xr-var-data-in:checked ~ .xr-var-data {\n",
       "  display: block;\n",
       "}\n",
       "\n",
       ".xr-var-data > table {\n",
       "  float: right;\n",
       "}\n",
       "\n",
       ".xr-var-name span,\n",
       ".xr-var-data,\n",
       ".xr-attrs {\n",
       "  padding-left: 25px !important;\n",
       "}\n",
       "\n",
       ".xr-attrs,\n",
       ".xr-var-attrs,\n",
       ".xr-var-data {\n",
       "  grid-column: 1 / -1;\n",
       "}\n",
       "\n",
       "dl.xr-attrs {\n",
       "  padding: 0;\n",
       "  margin: 0;\n",
       "  display: grid;\n",
       "  grid-template-columns: 125px auto;\n",
       "}\n",
       "\n",
       ".xr-attrs dt,\n",
       ".xr-attrs dd {\n",
       "  padding: 0;\n",
       "  margin: 0;\n",
       "  float: left;\n",
       "  padding-right: 10px;\n",
       "  width: auto;\n",
       "}\n",
       "\n",
       ".xr-attrs dt {\n",
       "  font-weight: normal;\n",
       "  grid-column: 1;\n",
       "}\n",
       "\n",
       ".xr-attrs dt:hover span {\n",
       "  display: inline-block;\n",
       "  background: var(--xr-background-color);\n",
       "  padding-right: 10px;\n",
       "}\n",
       "\n",
       ".xr-attrs dd {\n",
       "  grid-column: 2;\n",
       "  white-space: pre-wrap;\n",
       "  word-break: break-all;\n",
       "}\n",
       "\n",
       ".xr-icon-database,\n",
       ".xr-icon-file-text2 {\n",
       "  display: inline-block;\n",
       "  vertical-align: middle;\n",
       "  width: 1em;\n",
       "  height: 1.5em !important;\n",
       "  stroke-width: 0;\n",
       "  stroke: currentColor;\n",
       "  fill: currentColor;\n",
       "}\n",
       "</style><pre class='xr-text-repr-fallback'>&lt;xarray.DataArray &#x27;mld&#x27; ()&gt;\n",
       "array(235.12221, dtype=float32)\n",
       "Coordinates:\n",
       "    time     object 0001-03-15 12:00:00</pre><div class='xr-wrap' hidden><div class='xr-header'><div class='xr-obj-type'>xarray.DataArray</div><div class='xr-array-name'>'mld'</div></div><ul class='xr-sections'><li class='xr-section-item'><div class='xr-array-wrap'><input id='section-b755c04e-c24a-4b2a-a62b-adbfceb774c1' class='xr-array-in' type='checkbox' checked><label for='section-b755c04e-c24a-4b2a-a62b-adbfceb774c1' title='Show/hide data repr'><svg class='icon xr-icon-database'><use xlink:href='#icon-database'></use></svg></label><div class='xr-array-preview xr-preview'><span>235.1</span></div><div class='xr-array-data'><pre>array(235.12221, dtype=float32)</pre></div></div></li><li class='xr-section-item'><input id='section-5a9513fe-7281-446a-89e4-c39b0c8b7ede' class='xr-section-summary-in' type='checkbox'  checked><label for='section-5a9513fe-7281-446a-89e4-c39b0c8b7ede' class='xr-section-summary' >Coordinates: <span>(1)</span></label><div class='xr-section-inline-details'></div><div class='xr-section-details'><ul class='xr-var-list'><li class='xr-var-item'><div class='xr-var-name'><span>time</span></div><div class='xr-var-dims'>()</div><div class='xr-var-dtype'>object</div><div class='xr-var-preview xr-preview'>0001-03-15 12:00:00</div><input id='attrs-b04e4c1b-77d1-4362-9890-06a745d0b1d9' class='xr-var-attrs-in' type='checkbox' disabled><label for='attrs-b04e4c1b-77d1-4362-9890-06a745d0b1d9' title='Show/Hide attributes'><svg class='icon xr-icon-file-text2'><use xlink:href='#icon-file-text2'></use></svg></label><input id='data-4ab2910b-3249-4ce8-9c70-a93dd44e99ef' class='xr-var-data-in' type='checkbox'><label for='data-4ab2910b-3249-4ce8-9c70-a93dd44e99ef' title='Show/Hide data repr'><svg class='icon xr-icon-database'><use xlink:href='#icon-database'></use></svg></label><div class='xr-var-attrs'><dl class='xr-attrs'></dl></div><div class='xr-var-data'><pre>array(cftime.DatetimeGregorian(1, 3, 15, 12, 0, 0, 0), dtype=object)</pre></div></li></ul></div></li><li class='xr-section-item'><input id='section-6b3a23de-95b7-46ee-82c9-e3ea1b8e588f' class='xr-section-summary-in' type='checkbox' disabled ><label for='section-6b3a23de-95b7-46ee-82c9-e3ea1b8e588f' class='xr-section-summary'  title='Expand/collapse section'>Attributes: <span>(0)</span></label><div class='xr-section-inline-details'></div><div class='xr-section-details'><dl class='xr-attrs'></dl></div></li></ul></div></div>"
      ],
      "text/plain": [
       "<xarray.DataArray 'mld' ()>\n",
       "array(235.12221, dtype=float32)\n",
       "Coordinates:\n",
       "    time     object 0001-03-15 12:00:00"
      ]
     },
     "execution_count": 27,
     "metadata": {},
     "output_type": "execute_result"
    }
   ],
   "source": [
    "mld_lab.std()"
   ]
  },
  {
   "cell_type": "markdown",
   "id": "minimal-wright",
   "metadata": {},
   "source": [
    "## Heat content of NA subpolar gyre (all depths)"
   ]
  },
  {
   "cell_type": "markdown",
   "id": "frequent-number",
   "metadata": {},
   "source": [
    "\n",
    "sum ( rho cp T  * e1t * e2t * e3t * tmask )\n",
    "https://gallery.pangeo.io/repos/NCAR/notebook-gallery/notebooks/Run-Anywhere/Ocean-Heat-Content/OHC_tutorial.html#:~:text=%20How%20to%20calculate%20ocean%20heat%20content%20%C2%B6,is%20complicated.%20But%20in%20Python%20we...%20More%20"
   ]
  },
  {
   "cell_type": "code",
   "execution_count": 203,
   "id": "afraid-broadcasting",
   "metadata": {},
   "outputs": [
    {
     "data": {
      "text/plain": [
       "56222.00291666666"
      ]
     },
     "execution_count": 203,
     "metadata": {},
     "output_type": "execute_result"
    }
   ],
   "source": [
    "#48 to 72 degrees N, size of longitude degree in m\n",
    "dx = np.array([74625.33,\n",
    "73171.77,\n",
    "71695.73,\n",
    "70197.65,\n",
    "68677.99,\n",
    "67137.20,\n",
    "65575.75,\n",
    "63994.10,\n",
    "62392.75,\n",
    "60772.16,\n",
    "59132.84,\n",
    "57475.28,\n",
    "55799.98,\n",
    "54107.46,\n",
    "52398.22,\n",
    "50672.80,\n",
    "48931.72,\n",
    "47175.51,\n",
    "45404.71,\n",
    "43619.86,\n",
    "41821.51,\n",
    "40010.21,\n",
    "38186.53,\n",
    "36351.01]\n",
    ")\n",
    "dx.mean()"
   ]
  },
  {
   "cell_type": "code",
   "execution_count": 208,
   "id": "capital-instruction",
   "metadata": {},
   "outputs": [],
   "source": [
    "def calc_ocean_heat(dz, temperature):\n",
    "    #sum(e1t * e2t * e3t * temp) * rho * cp \n",
    "    \n",
    "    #from cdftools:\n",
    "    rho = 1020 #kg/m^3\n",
    "    c_p = 4000 #J/(kg K)\n",
    "    \n",
    "    # weight by dz\n",
    "    weighted_temperature = temperature * dz[:, None, None] \n",
    "    #temperature is 3D array\n",
    "    \n",
    "    heat = weighted_temperature.sum(dim=\"depth\")*rho*c_p\n",
    "    heat = heat.sum(dim=\"lat\")\n",
    "    heat = heat.sum(dim=\"lon\")\n",
    "    \n",
    "    # creating approximate e1t and e2t grid for obs: 1deg (~111km in lat, \n",
    "    #using the mean lon degree size in m between 48-72degN)  \n",
    "    heat = ((40*56222) + (24*111000)) * heat #degrees to m\n",
    "    \n",
    "    return heat\n",
    "\n",
    "#if wanted to filter depth:\n",
    "#ds.depth.where(ds.depth < 50, drop = True)"
   ]
  },
  {
   "cell_type": "code",
   "execution_count": 209,
   "id": "rocky-router",
   "metadata": {},
   "outputs": [],
   "source": [
    "no_years = 20 \n",
    "all_years = np.linspace(2001, 2020, no_years).astype(int)\n",
    "\n",
    "# no_years = 1\n",
    "# all_years = np.linspace(2001, 2001, no_years).astype(int)\n",
    "\n",
    "gyre_heat_content_allyrs = np.zeros(no_years)\n",
    "\n",
    "for i in range(len(all_years)):\n",
    "    year = all_years[i]\n",
    "    \n",
    "    file = 'EN4_'+str(year)+'_anav.nc'\n",
    "    ds = xr.open_dataset(mdir + file)\n",
    "\n",
    "    # converting temp from K to C\n",
    "    ds['temperature'] = ds.temperature - 273.15\n",
    "    ds.temperature.attrs['units'] = 'degC'\n",
    "\n",
    "    #heat content (J) in NA: 300-340 degW 48-72 degN\n",
    "    imin = find_nearest(ds.lon, 300)\n",
    "    imax = find_nearest(ds.lon, 340)\n",
    "    jmin = find_nearest(ds.lat, 48)\n",
    "    jmax = find_nearest(ds.lat, 72)\n",
    "\n",
    "    temp_reg_3D = ds.temperature[0,0:-1,jmin:jmax, imin:imax] #array\n",
    "    \n",
    "    dz = (np.diff(ds.depth.values)) *1E3 #km to m\n",
    "    \n",
    "    gyre_heat_content_allyrs[i] = calc_ocean_heat(dz, temp_reg_3D)"
   ]
  },
  {
   "cell_type": "code",
   "execution_count": 182,
   "id": "passive-isolation",
   "metadata": {},
   "outputs": [
    {
     "data": {
      "text/plain": [
       "5345250.0"
      ]
     },
     "execution_count": 182,
     "metadata": {},
     "output_type": "execute_result"
    }
   ],
   "source": [
    "#total depth in m:\n",
    "dz.sum()"
   ]
  },
  {
   "cell_type": "code",
   "execution_count": 210,
   "id": "textile-contact",
   "metadata": {},
   "outputs": [
    {
     "data": {
      "text/plain": [
       "array([1.51272705e+23, 1.51850618e+23, 1.52456684e+23, 1.55319075e+23,\n",
       "       1.55628934e+23, 1.55972266e+23, 1.55846250e+23, 1.54002259e+23,\n",
       "       1.53703574e+23, 1.56457821e+23, 1.57108204e+23, 1.55169851e+23,\n",
       "       1.56565721e+23, 1.53151851e+23, 1.50380226e+23, 1.50066462e+23,\n",
       "       1.52344263e+23, 1.50977438e+23, 1.52159788e+23, 1.50649511e+23])"
      ]
     },
     "execution_count": 210,
     "metadata": {},
     "output_type": "execute_result"
    }
   ],
   "source": [
    "gyre_heat_content_allyrs"
   ]
  },
  {
   "cell_type": "code",
   "execution_count": 211,
   "id": "eleven-longer",
   "metadata": {},
   "outputs": [
    {
     "data": {
      "text/plain": [
       "1.5355417513870916e+23"
      ]
     },
     "execution_count": 211,
     "metadata": {},
     "output_type": "execute_result"
    }
   ],
   "source": [
    "gyre_heat_content_allyrs.mean()"
   ]
  },
  {
   "cell_type": "code",
   "execution_count": 212,
   "id": "consolidated-microphone",
   "metadata": {},
   "outputs": [
    {
     "data": {
      "text/plain": [
       "2.2547946295631185e+21"
      ]
     },
     "execution_count": 212,
     "metadata": {},
     "output_type": "execute_result"
    }
   ],
   "source": [
    "gyre_heat_content_allyrs.std()"
   ]
  },
  {
   "cell_type": "markdown",
   "id": "small-mailing",
   "metadata": {},
   "source": [
    "## Overflow temperature & salinity"
   ]
  },
  {
   "cell_type": "code",
   "execution_count": 3,
   "id": "impaired-sleeping",
   "metadata": {},
   "outputs": [],
   "source": [
    "isopyc_thres = 27.8"
   ]
  },
  {
   "cell_type": "markdown",
   "id": "basic-enemy",
   "metadata": {},
   "source": [
    "## OVIDE\n",
    "\n",
    "Source : https://www.seanoe.org/data/00353/46446/\n",
    "\n",
    "2002-2012, in 2 yr intervals e.g. 2002, 2004, etc. so 6 yrs in total"
   ]
  },
  {
   "cell_type": "code",
   "execution_count": 6,
   "id": "possible-universe",
   "metadata": {},
   "outputs": [
    {
     "data": {
      "text/plain": [
       "array([2002., 2004., 2006., 2008., 2010., 2012.])"
      ]
     },
     "execution_count": 6,
     "metadata": {},
     "output_type": "execute_result"
    }
   ],
   "source": [
    "ds = xr.open_dataset('/data/users/smoreton/Obs/NA_overflows/ovide/gridded_data_along_OVIDE_line.nc')\n",
    "ds.Year.values"
   ]
  },
  {
   "cell_type": "code",
   "execution_count": 8,
   "id": "based-diary",
   "metadata": {},
   "outputs": [],
   "source": [
    "# cropped to Icelandic basin only\n",
    "ds = ds.isel(Dist=slice(99, 214))\n",
    "T_27_8_obs_each_year = ds.TPOT.where(ds.SIG0.values > isopyc_thres).mean(skipna=True, keep_attrs=True, dim='Depth').mean(skipna=True, keep_attrs=True, dim='Dist')\n",
    "\n",
    "S_27_8_obs_each_year = ds.SAL.where(ds.SIG0.values > isopyc_thres).mean(skipna=True, keep_attrs=True, dim='Depth').mean(skipna=True, keep_attrs=True, dim='Dist')"
   ]
  },
  {
   "cell_type": "code",
   "execution_count": 9,
   "id": "pursuant-protocol",
   "metadata": {},
   "outputs": [
    {
     "data": {
      "text/plain": [
       "array(34.94983169)"
      ]
     },
     "execution_count": 9,
     "metadata": {},
     "output_type": "execute_result"
    }
   ],
   "source": [
    "S_27_8_obs_each_year.mean().values"
   ]
  },
  {
   "cell_type": "code",
   "execution_count": 10,
   "id": "smart-petroleum",
   "metadata": {},
   "outputs": [
    {
     "data": {
      "text/plain": [
       "array(0.00509406)"
      ]
     },
     "execution_count": 10,
     "metadata": {},
     "output_type": "execute_result"
    }
   ],
   "source": [
    "S_27_8_obs_each_year.std().values"
   ]
  },
  {
   "cell_type": "code",
   "execution_count": 11,
   "id": "korean-junior",
   "metadata": {},
   "outputs": [
    {
     "data": {
      "text/plain": [
       "array(2.90064253)"
      ]
     },
     "execution_count": 11,
     "metadata": {},
     "output_type": "execute_result"
    }
   ],
   "source": [
    "T_27_8_obs_each_year.mean().values"
   ]
  },
  {
   "cell_type": "code",
   "execution_count": 12,
   "id": "motivated-consideration",
   "metadata": {},
   "outputs": [
    {
     "data": {
      "text/plain": [
       "array(0.04285094)"
      ]
     },
     "execution_count": 12,
     "metadata": {},
     "output_type": "execute_result"
    }
   ],
   "source": [
    "T_27_8_obs_each_year.std().values"
   ]
  },
  {
   "cell_type": "markdown",
   "id": "enclosed-charles",
   "metadata": {},
   "source": [
    "### Overflow T and S using nordic-seas-validation output"
   ]
  },
  {
   "cell_type": "code",
   "execution_count": 49,
   "id": "verified-queensland",
   "metadata": {},
   "outputs": [],
   "source": [
    "main_dir = '/data/users/smoreton/Obs/NA_overflows/'\n",
    "\n",
    "ovide_ds = xr.open_dataset(main_dir+'ovide_Xsection.nc') #no time variable so using my original dataset\n",
    "denmarkstr_ds = xr.open_dataset(main_dir+'latrabjarg_clim_Xsection.nc')  #no time variable so no std\n",
    "eel_ds = xr.open_dataset(main_dir+'eel_Xsection.nc') \n",
    "kogur_ds = xr.open_dataset(main_dir+'kogur_Xsection.nc') \n"
   ]
  },
  {
   "cell_type": "code",
   "execution_count": 47,
   "id": "daily-thursday",
   "metadata": {},
   "outputs": [],
   "source": [
    "#denmarkstr_ds, \n",
    "T_27_8_obs_each_year = denmarkstr_ds.potential_temperature.where(denmarkstr_ds.sigma_theta.values > isopyc_thres).mean(skipna=True, keep_attrs=True)\n",
    "\n",
    "S_27_8_obs_each_year = denmarkstr_ds.practical_salinity.where(denmarkstr_ds.sigma_theta.values > isopyc_thres).mean(skipna=True, keep_attrs=True)"
   ]
  },
  {
   "cell_type": "code",
   "execution_count": 50,
   "id": "ongoing-recorder",
   "metadata": {},
   "outputs": [
    {
     "data": {
      "text/plain": [
       "array(0.69057989)"
      ]
     },
     "execution_count": 50,
     "metadata": {},
     "output_type": "execute_result"
    }
   ],
   "source": [
    "T_27_8_obs_each_year.values #assume mean, no time variable"
   ]
  },
  {
   "cell_type": "code",
   "execution_count": 51,
   "id": "congressional-brighton",
   "metadata": {},
   "outputs": [
    {
     "data": {
      "text/plain": [
       "array(34.84691209)"
      ]
     },
     "execution_count": 51,
     "metadata": {},
     "output_type": "execute_result"
    }
   ],
   "source": [
    "S_27_8_obs_each_year.values"
   ]
  },
  {
   "cell_type": "code",
   "execution_count": null,
   "id": "secret-american",
   "metadata": {},
   "outputs": [],
   "source": []
  },
  {
   "cell_type": "code",
   "execution_count": 72,
   "id": "transparent-mention",
   "metadata": {},
   "outputs": [],
   "source": [
    "#eel_ds, changes each year\n",
    "T_27_8_obs_each_year = eel_ds.potential_temperature.where(eel_ds.sigma_theta.values > isopyc_thres).mean(skipna=True, keep_attrs=True, dim='depth').mean(skipna=True, keep_attrs=True, dim='station')\n",
    "\n",
    "S_27_8_obs_each_year = eel_ds.practical_salinity.where(eel_ds.sigma_theta.values > isopyc_thres).mean(skipna=True, keep_attrs=True, dim='depth').mean(skipna=True, keep_attrs=True, dim='station')"
   ]
  },
  {
   "cell_type": "code",
   "execution_count": 74,
   "id": "about-hanging",
   "metadata": {},
   "outputs": [
    {
     "data": {
      "text/plain": [
       "array(34.95592763)"
      ]
     },
     "execution_count": 74,
     "metadata": {},
     "output_type": "execute_result"
    }
   ],
   "source": [
    "S_27_8_obs_each_year.mean().values"
   ]
  },
  {
   "cell_type": "code",
   "execution_count": 75,
   "id": "separate-realtor",
   "metadata": {},
   "outputs": [
    {
     "data": {
      "text/plain": [
       "array(0.01379818)"
      ]
     },
     "execution_count": 75,
     "metadata": {},
     "output_type": "execute_result"
    }
   ],
   "source": [
    "S_27_8_obs_each_year.std().values"
   ]
  },
  {
   "cell_type": "code",
   "execution_count": 76,
   "id": "occupational-jackson",
   "metadata": {},
   "outputs": [
    {
     "data": {
      "text/plain": [
       "array(3.21952773)"
      ]
     },
     "execution_count": 76,
     "metadata": {},
     "output_type": "execute_result"
    }
   ],
   "source": [
    "T_27_8_obs_each_year.mean().values"
   ]
  },
  {
   "cell_type": "code",
   "execution_count": 77,
   "id": "sharing-syndicate",
   "metadata": {},
   "outputs": [
    {
     "data": {
      "text/plain": [
       "array(0.11272316)"
      ]
     },
     "execution_count": 77,
     "metadata": {},
     "output_type": "execute_result"
    }
   ],
   "source": [
    "T_27_8_obs_each_year.std().values"
   ]
  },
  {
   "cell_type": "code",
   "execution_count": 69,
   "id": "little-chinese",
   "metadata": {},
   "outputs": [
    {
     "data": {
      "text/plain": [
       "array(['1996-01-01T00:00:00.000000000', '1997-01-01T00:00:00.000000000',\n",
       "       '1998-01-01T00:00:00.000000000', '1999-01-01T00:00:00.000000000',\n",
       "       '2000-01-01T00:00:00.000000000', '2005-01-01T00:00:00.000000000',\n",
       "       '2006-01-01T00:00:00.000000000', '2009-01-01T00:00:00.000000000',\n",
       "       '2010-01-01T00:00:00.000000000', '2011-01-01T00:00:00.000000000',\n",
       "       '2013-01-01T00:00:00.000000000', '2014-01-01T00:00:00.000000000',\n",
       "       '2015-01-01T00:00:00.000000000', '2016-01-01T00:00:00.000000000',\n",
       "       '2017-01-01T00:00:00.000000000'], dtype='datetime64[ns]')"
      ]
     },
     "execution_count": 69,
     "metadata": {},
     "output_type": "execute_result"
    }
   ],
   "source": [
    "eel_ds.time.values #1996-2017, 15 years"
   ]
  },
  {
   "cell_type": "code",
   "execution_count": null,
   "id": "indonesian-payday",
   "metadata": {},
   "outputs": [],
   "source": []
  },
  {
   "cell_type": "code",
   "execution_count": 80,
   "id": "impossible-trinity",
   "metadata": {},
   "outputs": [],
   "source": [
    "#kogur_ds, changes each year\n",
    "T_27_8_obs_each_year = kogur_ds.potential_temperature.where(kogur_ds.sigma_theta.values > isopyc_thres).mean(skipna=True, keep_attrs=True, dim='depth').mean(skipna=True, keep_attrs=True, dim='station')\n",
    "\n",
    "S_27_8_obs_each_year = kogur_ds.salinity.where(kogur_ds.sigma_theta.values > isopyc_thres).mean(skipna=True, keep_attrs=True, dim='depth').mean(skipna=True, keep_attrs=True, dim='station')"
   ]
  },
  {
   "cell_type": "code",
   "execution_count": 81,
   "id": "democratic-manchester",
   "metadata": {},
   "outputs": [
    {
     "data": {
      "text/plain": [
       "array(34.88384838)"
      ]
     },
     "execution_count": 81,
     "metadata": {},
     "output_type": "execute_result"
    }
   ],
   "source": [
    "S_27_8_obs_each_year.mean().values"
   ]
  },
  {
   "cell_type": "code",
   "execution_count": 82,
   "id": "retained-tourism",
   "metadata": {},
   "outputs": [
    {
     "data": {
      "text/plain": [
       "array(0.00559513)"
      ]
     },
     "execution_count": 82,
     "metadata": {},
     "output_type": "execute_result"
    }
   ],
   "source": [
    "S_27_8_obs_each_year.std().values"
   ]
  },
  {
   "cell_type": "code",
   "execution_count": 88,
   "id": "confused-kennedy",
   "metadata": {},
   "outputs": [
    {
     "data": {
      "text/plain": [
       "array(0.35019253)"
      ]
     },
     "execution_count": 88,
     "metadata": {},
     "output_type": "execute_result"
    }
   ],
   "source": [
    "T_27_8_obs_each_year.mean().values"
   ]
  },
  {
   "cell_type": "code",
   "execution_count": 89,
   "id": "unauthorized-calgary",
   "metadata": {},
   "outputs": [
    {
     "data": {
      "text/plain": [
       "array(0.08281083)"
      ]
     },
     "execution_count": 89,
     "metadata": {},
     "output_type": "execute_result"
    }
   ],
   "source": [
    "T_27_8_obs_each_year.std().values"
   ]
  },
  {
   "cell_type": "code",
   "execution_count": 90,
   "id": "partial-shipping",
   "metadata": {},
   "outputs": [
    {
     "data": {
      "text/plain": [
       "array(['2011-09-01T00:00:00.000000000', '2011-09-01T08:00:00.000000000',\n",
       "       '2011-09-01T16:00:00.000000000', ...,\n",
       "       '2012-07-30T16:00:00.000000000', '2012-07-31T00:00:00.000000000',\n",
       "       '2012-07-31T08:00:00.000000000'], dtype='datetime64[ns]')"
      ]
     },
     "execution_count": 90,
     "metadata": {},
     "output_type": "execute_result"
    }
   ],
   "source": [
    "kogur_ds.time.values #2011 sept - 2012 july"
   ]
  },
  {
   "cell_type": "code",
   "execution_count": 44,
   "id": "decent-gospel",
   "metadata": {},
   "outputs": [],
   "source": [
    "#osnap_ds, changes each year\n",
    "# I calculated density & saved within model file, so accessing it there \n",
    "main_dir = '/data/users/smoreton/VALNA/DATA/u-ak108/'\n",
    "osnap_ds = xr.open_dataset(main_dir+'nemo_ak108o_1y_19501201_osnap_Xsection.nc') \n",
    "\n",
    "osnap_ds = osnap_ds.isel(station=slice(76, 205)) # Irminger and Icelandic basins,  \n",
    "\n",
    "T_27_8_obs_each_year = osnap_ds.obs_temperature.where(osnap_ds.obs_density.values > isopyc_thres).mean(skipna=True, keep_attrs=True, dim='depth').mean(skipna=True, keep_attrs=True, dim='station')\n",
    "\n",
    "S_27_8_obs_each_year = osnap_ds.obs_salinity.where(osnap_ds.obs_density.values > isopyc_thres).mean(skipna=True, keep_attrs=True, dim='depth').mean(skipna=True, keep_attrs=True, dim='station')\n"
   ]
  },
  {
   "cell_type": "code",
   "execution_count": 45,
   "id": "mental-grass",
   "metadata": {},
   "outputs": [
    {
     "data": {
      "text/plain": [
       "array(2.96945723)"
      ]
     },
     "execution_count": 45,
     "metadata": {},
     "output_type": "execute_result"
    }
   ],
   "source": [
    "T_27_8_obs_each_year.mean().values"
   ]
  },
  {
   "cell_type": "code",
   "execution_count": 46,
   "id": "diagnostic-virus",
   "metadata": {},
   "outputs": [
    {
     "data": {
      "text/plain": [
       "array(0.01964481)"
      ]
     },
     "execution_count": 46,
     "metadata": {},
     "output_type": "execute_result"
    }
   ],
   "source": [
    "T_27_8_obs_each_year.std().values"
   ]
  },
  {
   "cell_type": "code",
   "execution_count": 47,
   "id": "aquatic-difficulty",
   "metadata": {},
   "outputs": [
    {
     "data": {
      "text/plain": [
       "array(34.947037, dtype=float32)"
      ]
     },
     "execution_count": 47,
     "metadata": {},
     "output_type": "execute_result"
    }
   ],
   "source": [
    "S_27_8_obs_each_year.mean().values"
   ]
  },
  {
   "cell_type": "code",
   "execution_count": 48,
   "id": "painful-judges",
   "metadata": {},
   "outputs": [
    {
     "data": {
      "text/plain": [
       "array(0.00142154, dtype=float32)"
      ]
     },
     "execution_count": 48,
     "metadata": {},
     "output_type": "execute_result"
    }
   ],
   "source": [
    "S_27_8_obs_each_year.std().values"
   ]
  },
  {
   "cell_type": "code",
   "execution_count": 19,
   "id": "median-dietary",
   "metadata": {},
   "outputs": [
    {
     "data": {
      "text/plain": [
       "array(['2014-07-31T00:00:00.000000000', '2014-08-30T00:00:00.000000000',\n",
       "       '2014-09-29T00:00:00.000000000', '2014-10-29T00:00:00.000000000',\n",
       "       '2014-11-28T00:00:00.000000000', '2014-12-28T00:00:00.000000000',\n",
       "       '2015-01-27T00:00:00.000000000', '2015-02-26T00:00:00.000000000',\n",
       "       '2015-03-28T00:00:00.000000000', '2015-04-27T00:00:00.000000000',\n",
       "       '2015-05-27T00:00:00.000000000', '2015-06-26T00:00:00.000000000',\n",
       "       '2015-07-26T00:00:00.000000000', '2015-08-25T00:00:00.000000000',\n",
       "       '2015-09-24T00:00:00.000000000', '2015-10-24T00:00:00.000000000',\n",
       "       '2015-11-23T00:00:00.000000000', '2015-12-23T00:00:00.000000000',\n",
       "       '2016-01-22T00:00:00.000000000', '2016-02-21T00:00:00.000000000',\n",
       "       '2016-03-22T00:00:00.000000000'], dtype='datetime64[ns]')"
      ]
     },
     "execution_count": 19,
     "metadata": {},
     "output_type": "execute_result"
    }
   ],
   "source": [
    "osnap_ds.time.values #2014-2016"
   ]
  },
  {
   "cell_type": "code",
   "execution_count": null,
   "id": "medium-posting",
   "metadata": {},
   "outputs": [],
   "source": []
  },
  {
   "cell_type": "code",
   "execution_count": 53,
   "id": "spiritual-eugene",
   "metadata": {},
   "outputs": [],
   "source": [
    "main_dir = '/data/users/smoreton/VALNA/DATA/u-ak108/'\n",
    "osnap_ds = xr.open_dataset(main_dir+'nemo_ak108o_1y_19501201_osnap_Xsection.nc') \n",
    "\n",
    "osnap_ds = osnap_ds.isel(station=slice(76, 143)) # Irminger basin only\n",
    "\n",
    "T_27_8_obs_each_year = osnap_ds.obs_temperature.where(osnap_ds.obs_density.values > isopyc_thres).mean(skipna=True, keep_attrs=True, dim='depth').mean(skipna=True, keep_attrs=True, dim='station')\n",
    "\n",
    "S_27_8_obs_each_year = osnap_ds.obs_salinity.where(osnap_ds.obs_density.values > isopyc_thres).mean(skipna=True, keep_attrs=True, dim='depth').mean(skipna=True, keep_attrs=True, dim='station')\n"
   ]
  },
  {
   "cell_type": "code",
   "execution_count": 54,
   "id": "weighted-theorem",
   "metadata": {},
   "outputs": [
    {
     "data": {
      "text/plain": [
       "array(2.90767408)"
      ]
     },
     "execution_count": 54,
     "metadata": {},
     "output_type": "execute_result"
    }
   ],
   "source": [
    "T_27_8_obs_each_year.mean().values"
   ]
  },
  {
   "cell_type": "code",
   "execution_count": 55,
   "id": "magnetic-administrator",
   "metadata": {},
   "outputs": [
    {
     "data": {
      "text/plain": [
       "array(0.0308461)"
      ]
     },
     "execution_count": 55,
     "metadata": {},
     "output_type": "execute_result"
    }
   ],
   "source": [
    "T_27_8_obs_each_year.std().values"
   ]
  },
  {
   "cell_type": "code",
   "execution_count": 56,
   "id": "adjusted-bridges",
   "metadata": {},
   "outputs": [
    {
     "data": {
      "text/plain": [
       "array(34.933804, dtype=float32)"
      ]
     },
     "execution_count": 56,
     "metadata": {},
     "output_type": "execute_result"
    }
   ],
   "source": [
    "S_27_8_obs_each_year.mean().values"
   ]
  },
  {
   "cell_type": "code",
   "execution_count": 57,
   "id": "conditional-detector",
   "metadata": {},
   "outputs": [
    {
     "data": {
      "text/plain": [
       "array(0.0020512, dtype=float32)"
      ]
     },
     "execution_count": 57,
     "metadata": {},
     "output_type": "execute_result"
    }
   ],
   "source": [
    "S_27_8_obs_each_year.std().values"
   ]
  },
  {
   "cell_type": "code",
   "execution_count": null,
   "id": "transsexual-barbados",
   "metadata": {},
   "outputs": [],
   "source": []
  },
  {
   "cell_type": "code",
   "execution_count": 59,
   "id": "correct-consumer",
   "metadata": {},
   "outputs": [],
   "source": [
    "main_dir = '/data/users/smoreton/VALNA/DATA/u-ak108/'\n",
    "osnap_ds = xr.open_dataset(main_dir+'nemo_ak108o_1y_19501201_osnap_Xsection.nc') \n",
    "\n",
    "osnap_ds = osnap_ds.isel(station=slice(143, 205)) #Icelandic basin only\n",
    "\n",
    "T_27_8_obs_each_year = osnap_ds.obs_temperature.where(osnap_ds.obs_density.values > isopyc_thres).mean(skipna=True, keep_attrs=True, dim='depth').mean(skipna=True, keep_attrs=True, dim='station')\n",
    "\n",
    "# S_27_8_obs_each_year = osnap_ds.obs_salinity.where(osnap_ds.obs_density.values > isopyc_thres).mean(skipna=True, keep_attrs=True, dim='depth').mean(skipna=True, keep_attrs=True, dim='station')\n"
   ]
  },
  {
   "cell_type": "code",
   "execution_count": 60,
   "id": "fleet-minutes",
   "metadata": {},
   "outputs": [
    {
     "data": {
      "text/plain": [
       "array(3.03233039)"
      ]
     },
     "execution_count": 60,
     "metadata": {},
     "output_type": "execute_result"
    }
   ],
   "source": [
    "T_27_8_obs_each_year.mean().values"
   ]
  },
  {
   "cell_type": "code",
   "execution_count": 61,
   "id": "objective-resource",
   "metadata": {},
   "outputs": [
    {
     "data": {
      "text/plain": [
       "array(0.0182862)"
      ]
     },
     "execution_count": 61,
     "metadata": {},
     "output_type": "execute_result"
    }
   ],
   "source": [
    "T_27_8_obs_each_year.std().values"
   ]
  },
  {
   "cell_type": "code",
   "execution_count": 62,
   "id": "blank-amino",
   "metadata": {},
   "outputs": [
    {
     "data": {
      "text/plain": [
       "array(34.933804, dtype=float32)"
      ]
     },
     "execution_count": 62,
     "metadata": {},
     "output_type": "execute_result"
    }
   ],
   "source": [
    "S_27_8_obs_each_year.mean().values"
   ]
  },
  {
   "cell_type": "code",
   "execution_count": 63,
   "id": "important-ladder",
   "metadata": {},
   "outputs": [
    {
     "data": {
      "text/plain": [
       "array(0.0020512, dtype=float32)"
      ]
     },
     "execution_count": 63,
     "metadata": {},
     "output_type": "execute_result"
    }
   ],
   "source": [
    "S_27_8_obs_each_year.std().values"
   ]
  },
  {
   "cell_type": "code",
   "execution_count": 69,
   "id": "third-clerk",
   "metadata": {},
   "outputs": [],
   "source": [
    "#hansen_ds, no time dim\n",
    "# I calculated density & saved within model file, so accessing it there \n",
    "main_dir = '/data/users/smoreton/VALNA/DATA/u-ar435/'\n",
    "hansen_ds = xr.open_dataset(main_dir+'nemo_ar435o_1y_20041201_hansen_Xsection.nc') \n",
    "\n",
    "T_27_8_obs = hansen_ds.obs_temperature.where(hansen_ds.obs_density.values > isopyc_thres).mean(skipna=True, keep_attrs=True, dim='depth').mean(skipna=True, keep_attrs=True, dim='station')\n",
    "\n",
    "S_27_8_obs = hansen_ds.obs_salinity.where(hansen_ds.obs_density.values > isopyc_thres).mean(skipna=True, keep_attrs=True, dim='depth').mean(skipna=True, keep_attrs=True, dim='station')"
   ]
  },
  {
   "cell_type": "code",
   "execution_count": 71,
   "id": "short-honey",
   "metadata": {},
   "outputs": [
    {
     "data": {
      "text/plain": [
       "array(0.05831493)"
      ]
     },
     "execution_count": 71,
     "metadata": {},
     "output_type": "execute_result"
    }
   ],
   "source": [
    "T_27_8_obs.values"
   ]
  },
  {
   "cell_type": "code",
   "execution_count": 72,
   "id": "compressed-sender",
   "metadata": {},
   "outputs": [
    {
     "data": {
      "text/plain": [
       "array(34.90626667)"
      ]
     },
     "execution_count": 72,
     "metadata": {},
     "output_type": "execute_result"
    }
   ],
   "source": [
    "S_27_8_obs.values"
   ]
  },
  {
   "cell_type": "code",
   "execution_count": null,
   "id": "skilled-camcorder",
   "metadata": {},
   "outputs": [],
   "source": []
  }
 ],
 "metadata": {
  "kernelspec": {
   "display_name": "Python 3",
   "language": "python",
   "name": "python3"
  },
  "language_info": {
   "codemirror_mode": {
    "name": "ipython",
    "version": 3
   },
   "file_extension": ".py",
   "mimetype": "text/x-python",
   "name": "python",
   "nbconvert_exporter": "python",
   "pygments_lexer": "ipython3",
   "version": "3.6.6"
  }
 },
 "nbformat": 4,
 "nbformat_minor": 5
}
